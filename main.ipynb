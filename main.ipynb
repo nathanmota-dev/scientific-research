{
 "cells": [
  {
   "cell_type": "markdown",
   "metadata": {},
   "source": [
    "Terminal -> New Terminal\n",
    "\n",
    "python3 -m venv venv\n",
    "\n",
    "source venv/bin/activate\n",
    "\n",
    "Select Kernel -> venv\n",
    "\n",
    "pip install evtx\n",
    "\n",
    "pip freeze > requirements.txt\n",
    "\n",
    "pip install -r requirements.txt (quando for instalar)"
   ]
  },
  {
   "cell_type": "code",
   "execution_count": 1,
   "metadata": {},
   "outputs": [],
   "source": [
    "import os"
   ]
  },
  {
   "cell_type": "code",
   "execution_count": 2,
   "metadata": {},
   "outputs": [
    {
     "data": {
      "text/plain": [
       "'/home/mx/0 - shared/1 - Pesquisa/UFU_IC/workspace/jupyter'"
      ]
     },
     "execution_count": 2,
     "metadata": {},
     "output_type": "execute_result"
    }
   ],
   "source": [
    "#cwd (current working directory)\n",
    "caminho_para_diretorio_atual = os.getcwd()\n",
    "caminho_para_diretorio_atual"
   ]
  },
  {
   "cell_type": "code",
   "execution_count": 3,
   "metadata": {},
   "outputs": [
    {
     "data": {
      "text/plain": [
       "'/home/mx/0 - shared/1 - Pesquisa/UFU_IC/workspace/Logs'"
      ]
     },
     "execution_count": 3,
     "metadata": {},
     "output_type": "execute_result"
    }
   ],
   "source": [
    "caminho_para_arquivos_evtx = \"/home/mx/0 - shared/1 - Pesquisa/UFU_IC/workspace/Logs/\"\n",
    "#chdir (change directory)\n",
    "os.chdir(caminho_para_arquivos_evtx)\n",
    "os.getcwd()"
   ]
  },
  {
   "cell_type": "code",
   "execution_count": 4,
   "metadata": {},
   "outputs": [
    {
     "name": "stdout",
     "output_type": "stream",
     "text": [
      "Application.evtx\n",
      "System.evtx\n"
     ]
    }
   ],
   "source": [
    "import glob\n",
    "for nome_do_arquivo_evtx in glob.glob('*.evtx'):\n",
    "    print(nome_do_arquivo_evtx)"
   ]
  },
  {
   "cell_type": "code",
   "execution_count": 5,
   "metadata": {},
   "outputs": [
    {
     "name": "stdout",
     "output_type": "stream",
     "text": [
      "{'event_record_id': 140946, 'timestamp': '2024-03-22 23:19:57.959605 UTC', 'data': '<?xml version=\"1.0\" encoding=\"utf-8\"?>\\n<Event xmlns=\"http://schemas.microsoft.com/win/2004/08/events/event\">\\n  <System>\\n    <Provider Name=\"Microsoft-Windows-Security-SPP\" Guid=\"{E23B33B0-C8C9-472C-A5F9-F2BDFEA0F156}\" EventSourceName=\"Software Protection Platform Service\">\\n    </Provider>\\n    <EventID Qualifiers=\"16384\">1003</EventID>\\n    <Version>0</Version>\\n    <Level>4</Level>\\n    <Task>0</Task>\\n    <Opcode>0</Opcode>\\n    <Keywords>0x80000000000000</Keywords>\\n    <TimeCreated SystemTime=\"2024-03-22T23:19:57.959605Z\">\\n    </TimeCreated>\\n    <EventRecordID>140946</EventRecordID>\\n    <Correlation>\\n    </Correlation>\\n    <Execution ProcessID=\"0\" ThreadID=\"0\">\\n    </Execution>\\n    <Channel>Application</Channel>\\n    <Computer>Athena</Computer>\\n    <Security>\\n    </Security>\\n  </System>\\n  <EventData>\\n    <Data>0ff1ce15-a989-479d-af46-f275c6370663,\\n1: d450596f-894d-49e0-966a-fd39ed4c4c64, 1, 1 [(0 [0x00000000, 1, 0], [(?)( 1 0x00000000)(?)( 2 0x00000000 0 0 msft:rm/algorithm/volume/1.0 0x00000000 206779)(?)(?)(?)(?)])(1 )(2 )(3 )]\\n\\n</Data>\\n    <Binary></Binary>\\n  </EventData>\\n</Event>'}\n",
      "{'event_record_id': 155520, 'timestamp': '2024-04-04 21:30:01.002528 UTC', 'data': '<?xml version=\"1.0\" encoding=\"utf-8\"?>\\n<Event xmlns=\"http://schemas.microsoft.com/win/2004/08/events/event\">\\n  <System>\\n    <Provider Name=\"Microsoft-Windows-DistributedCOM\" Guid=\"{1B562E86-B7AA-4131-BADC-B6F3A001407E}\" EventSourceName=\"DCOM\">\\n    </Provider>\\n    <EventID Qualifiers=\"0\">10016</EventID>\\n    <Version>0</Version>\\n    <Level>3</Level>\\n    <Task>0</Task>\\n    <Opcode>0</Opcode>\\n    <Keywords>0x8080000000000000</Keywords>\\n    <TimeCreated SystemTime=\"2024-04-04T21:30:01.002528Z\">\\n    </TimeCreated>\\n    <EventRecordID>155520</EventRecordID>\\n    <Correlation ActivityID=\"6095A4FD-6545-4F21-8FFA-CD64750B351D\">\\n    </Correlation>\\n    <Execution ProcessID=\"1104\" ThreadID=\"16976\">\\n    </Execution>\\n    <Channel>System</Channel>\\n    <Computer>Athena</Computer>\\n    <Security UserID=\"S-1-5-21-3179950460-3881450488-1956027464-1001\">\\n    </Security>\\n  </System>\\n  <EventData>\\n    <Data Name=\"param1\">application-specific</Data>\\n    <Data Name=\"param2\">Local</Data>\\n    <Data Name=\"param3\">Activation</Data>\\n    <Data Name=\"param4\">{2593F8B9-4EAF-457C-B68A-50F6B8EA6B54}</Data>\\n    <Data Name=\"param5\">{15C20B67-12E7-4BB6-92BB-7AFF07997402}</Data>\\n    <Data Name=\"param6\">ATHENA</Data>\\n    <Data Name=\"param7\">Athena</Data>\\n    <Data Name=\"param8\">S-1-5-21-3179950460-3881450488-1956027464-1001</Data>\\n    <Data Name=\"param9\">LocalHost (Using LRPC)</Data>\\n    <Data Name=\"param10\">Unavailable</Data>\\n    <Data Name=\"param11\">Unavailable</Data>\\n  </EventData>\\n</Event>'}\n"
     ]
    }
   ],
   "source": [
    "from evtx import PyEvtxParser\n",
    "\n",
    "for nome_do_arquivo_evtx in glob.glob('*.evtx'):\n",
    "    conjunto_de_registros_do_evtx = PyEvtxParser(caminho_para_arquivos_evtx+nome_do_arquivo_evtx)\n",
    "    for registro in conjunto_de_registros_do_evtx.records():\n",
    "        print(registro)\n",
    "        break"
   ]
  },
  {
   "cell_type": "code",
   "execution_count": 6,
   "metadata": {},
   "outputs": [
    {
     "data": {
      "text/plain": [
       "'<?xml version=\"1.0\" encoding=\"utf-8\"?>\\n<Event xmlns=\"http://schemas.microsoft.com/win/2004/08/events/event\">\\n  <System>\\n    <Provider Name=\"Microsoft-Windows-DistributedCOM\" Guid=\"{1B562E86-B7AA-4131-BADC-B6F3A001407E}\" EventSourceName=\"DCOM\">\\n    </Provider>\\n    <EventID Qualifiers=\"0\">10016</EventID>\\n    <Version>0</Version>\\n    <Level>3</Level>\\n    <Task>0</Task>\\n    <Opcode>0</Opcode>\\n    <Keywords>0x8080000000000000</Keywords>\\n    <TimeCreated SystemTime=\"2024-04-04T21:30:01.002528Z\">\\n    </TimeCreated>\\n    <EventRecordID>155520</EventRecordID>\\n    <Correlation ActivityID=\"6095A4FD-6545-4F21-8FFA-CD64750B351D\">\\n    </Correlation>\\n    <Execution ProcessID=\"1104\" ThreadID=\"16976\">\\n    </Execution>\\n    <Channel>System</Channel>\\n    <Computer>Athena</Computer>\\n    <Security UserID=\"S-1-5-21-3179950460-3881450488-1956027464-1001\">\\n    </Security>\\n  </System>\\n  <EventData>\\n    <Data Name=\"param1\">application-specific</Data>\\n    <Data Name=\"param2\">Local</Data>\\n    <Data Name=\"param3\">Activation</Data>\\n    <Data Name=\"param4\">{2593F8B9-4EAF-457C-B68A-50F6B8EA6B54}</Data>\\n    <Data Name=\"param5\">{15C20B67-12E7-4BB6-92BB-7AFF07997402}</Data>\\n    <Data Name=\"param6\">ATHENA</Data>\\n    <Data Name=\"param7\">Athena</Data>\\n    <Data Name=\"param8\">S-1-5-21-3179950460-3881450488-1956027464-1001</Data>\\n    <Data Name=\"param9\">LocalHost (Using LRPC)</Data>\\n    <Data Name=\"param10\">Unavailable</Data>\\n    <Data Name=\"param11\">Unavailable</Data>\\n  </EventData>\\n</Event>'"
      ]
     },
     "execution_count": 6,
     "metadata": {},
     "output_type": "execute_result"
    }
   ],
   "source": [
    "registro['data']"
   ]
  },
  {
   "cell_type": "markdown",
   "metadata": {},
   "source": [
    "O código busca uma string que começa com <Level>, seguida de qualquer conteúdo (capturado por (.*?)), e termina com </Level> dentro da string registro['data']."
   ]
  },
  {
   "cell_type": "code",
   "execution_count": 7,
   "metadata": {},
   "outputs": [
    {
     "data": {
      "text/plain": [
       "<re.Match object; span=(333, 349), match='<Level>3</Level>'>"
      ]
     },
     "execution_count": 7,
     "metadata": {},
     "output_type": "execute_result"
    }
   ],
   "source": [
    "import re\n",
    "re.search(r'<Level>(.*?)</Level>', registro['data'])"
   ]
  },
  {
   "cell_type": "markdown",
   "metadata": {},
   "source": [
    "Esta parte do código acessa o primeiro grupo de captura ((.*?)) do objeto de correspondência retornado por re.search(). Em expressões regulares, os grupos de captura são definidos colocando partes do padrão entre parênteses. Como (.*?) é o primeiro (e único) grupo de captura no padrão, .group(1) recupera o conteúdo correspondido por este grupo."
   ]
  },
  {
   "cell_type": "code",
   "execution_count": 8,
   "metadata": {},
   "outputs": [
    {
     "data": {
      "text/plain": [
       "'3'"
      ]
     },
     "execution_count": 8,
     "metadata": {},
     "output_type": "execute_result"
    }
   ],
   "source": [
    "re.search(r'<Level>(.*?)</Level>', registro['data']).group(1)"
   ]
  },
  {
   "cell_type": "code",
   "execution_count": 9,
   "metadata": {},
   "outputs": [
    {
     "data": {
      "text/plain": [
       "'3'"
      ]
     },
     "execution_count": 9,
     "metadata": {},
     "output_type": "execute_result"
    }
   ],
   "source": [
    "event_level = re.search(r'<Level>(.*?)</Level>', registro['data']).group(1)\n",
    "event_level"
   ]
  },
  {
   "cell_type": "markdown",
   "metadata": {},
   "source": [
    "# Event_level 1 e 2 são falhas"
   ]
  },
  {
   "cell_type": "code",
   "execution_count": 10,
   "metadata": {},
   "outputs": [],
   "source": [
    "# if(((\"Application\" in nome_do_arquivo_evtx) & (event_level == \"2\")) | ((\"System\" in nome_do_arquivo_evtx) & ((event_level == \"2\") | (event_level == \"1\")))):"
   ]
  },
  {
   "cell_type": "markdown",
   "metadata": {},
   "source": [
    "Como refatorar o código"
   ]
  },
  {
   "cell_type": "code",
   "execution_count": 11,
   "metadata": {},
   "outputs": [],
   "source": [
    "# conditions = [\n",
    "#     (\"Application\" in nome_do_arquivo_evtx and event_level == \"2\"),\n",
    "#     (\"System\" in nome_do_arquivo_evtx and event_level in (\"1\", \"2\"))\n",
    "# ]\n",
    "\n",
    "# if any(conditions):\n",
    "#     # Your code here\n"
   ]
  },
  {
   "cell_type": "markdown",
   "metadata": {},
   "source": [
    "### Eventos que não saõ de falhas, mas possuem Event_level 1 e 2"
   ]
  },
  {
   "cell_type": "code",
   "execution_count": 12,
   "metadata": {},
   "outputs": [
    {
     "data": {
      "text/html": [
       "<div>\n",
       "<style scoped>\n",
       "    .dataframe tbody tr th:only-of-type {\n",
       "        vertical-align: middle;\n",
       "    }\n",
       "\n",
       "    .dataframe tbody tr th {\n",
       "        vertical-align: top;\n",
       "    }\n",
       "\n",
       "    .dataframe thead th {\n",
       "        text-align: right;\n",
       "    }\n",
       "</style>\n",
       "<table border=\"1\" class=\"dataframe\">\n",
       "  <thead>\n",
       "    <tr style=\"text-align: right;\">\n",
       "      <th></th>\n",
       "      <th>SourceName</th>\n",
       "      <th>EventID</th>\n",
       "    </tr>\n",
       "  </thead>\n",
       "  <tbody>\n",
       "    <tr>\n",
       "      <th>0</th>\n",
       "      <td>trend micro officescan</td>\n",
       "      <td>900</td>\n",
       "    </tr>\n",
       "    <tr>\n",
       "      <th>1</th>\n",
       "      <td>eventlog</td>\n",
       "      <td>6008</td>\n",
       "    </tr>\n",
       "    <tr>\n",
       "      <th>2</th>\n",
       "      <td>tcpip</td>\n",
       "      <td>4199</td>\n",
       "    </tr>\n",
       "    <tr>\n",
       "      <th>3</th>\n",
       "      <td>server</td>\n",
       "      <td>2505</td>\n",
       "    </tr>\n",
       "    <tr>\n",
       "      <th>4</th>\n",
       "      <td>netbt</td>\n",
       "      <td>4321</td>\n",
       "    </tr>\n",
       "    <tr>\n",
       "      <th>5</th>\n",
       "      <td>netbt</td>\n",
       "      <td>4319</td>\n",
       "    </tr>\n",
       "    <tr>\n",
       "      <th>6</th>\n",
       "      <td>microsoft-windows-kernel-power</td>\n",
       "      <td>41</td>\n",
       "    </tr>\n",
       "  </tbody>\n",
       "</table>\n",
       "</div>"
      ],
      "text/plain": [
       "                       SourceName  EventID\n",
       "0          trend micro officescan      900\n",
       "1                        eventlog     6008\n",
       "2                           tcpip     4199\n",
       "3                          server     2505\n",
       "4                           netbt     4321\n",
       "5                           netbt     4319\n",
       "6  microsoft-windows-kernel-power       41"
      ]
     },
     "execution_count": 12,
     "metadata": {},
     "output_type": "execute_result"
    }
   ],
   "source": [
    "import pandas as pd\n",
    "\n",
    "os.chdir(caminho_para_diretorio_atual)\n",
    "df_non_failure_events = pd.read_csv(\"1_non_failure_events.csv\", encoding='utf-8-sig', engine='python')\n",
    "df_non_failure_events"
   ]
  },
  {
   "cell_type": "code",
   "execution_count": 13,
   "metadata": {},
   "outputs": [
    {
     "data": {
      "text/plain": [
       "defaultdict(list,\n",
       "            {'trend micro officescan': [900],\n",
       "             'eventlog': [6008],\n",
       "             'tcpip': [4199],\n",
       "             'server': [2505],\n",
       "             'netbt': [4321, 4319],\n",
       "             'microsoft-windows-kernel-power': [41]})"
      ]
     },
     "execution_count": 13,
     "metadata": {},
     "output_type": "execute_result"
    }
   ],
   "source": [
    "from collections import defaultdict\n",
    "\n",
    "\n",
    "dict_non_failure_events = defaultdict(list)\n",
    "for k, v in zip(df_non_failure_events.SourceName, df_non_failure_events.EventID):\n",
    "    dict_non_failure_events[k].append(v)\n",
    "dict_non_failure_events"
   ]
  },
  {
   "cell_type": "markdown",
   "metadata": {},
   "source": [
    "# Código Completo"
   ]
  },
  {
   "cell_type": "code",
   "execution_count": 14,
   "metadata": {},
   "outputs": [],
   "source": [
    "class Event(object):\n",
    "    def __init__(\n",
    "        self,\n",
    "        Filename,\n",
    "        ID,\n",
    "        SourceName,\n",
    "        Provider_Guid,\n",
    "        EventID,\n",
    "        EventID_Qualifiers,\n",
    "        Version,\n",
    "        Level,\n",
    "        Task,\n",
    "        Opcode,\n",
    "        Keywords,\n",
    "        TimeCreated,\n",
    "        EventRecordID,\n",
    "        Correlation_ActivityID,\n",
    "        Correlation_RelatedActivityID,\n",
    "        ProcessID,\n",
    "        ThreadID,\n",
    "        Channel,\n",
    "        Computer,\n",
    "        UserID,\n",
    "        Data_Event_Name,\n",
    "        Data_Fields,\n",
    "        Data,\n",
    "        UserData_Flag\n",
    "    ):\n",
    "        self.Filename = Filename\n",
    "        self.ID = ID\n",
    "        self.SourceName = SourceName\n",
    "        self.Provider_Guid = Provider_Guid\n",
    "        self.EventID = EventID\n",
    "        self.EventID_Qualifiers = EventID_Qualifiers\n",
    "        self.Version = Version\n",
    "        self.Level = Level\n",
    "        self.Task = Task\n",
    "        self.Opcode = Opcode\n",
    "        self.Keywords = Keywords\n",
    "        self.TimeCreated = TimeCreated\n",
    "        self.EventRecordID = EventRecordID\n",
    "        self.Correlation_ActivityID = Correlation_ActivityID\n",
    "        self.Correlation_RelatedActivityID = Correlation_RelatedActivityID\n",
    "        self.ProcessID = ProcessID\n",
    "        self.ThreadID = ThreadID\n",
    "        self.Channel = Channel\n",
    "        self.Computer = Computer\n",
    "        self.UserID = UserID\n",
    "        self.Data_Event_Name = Data_Event_Name\n",
    "        self.Data_Fields = Data_Fields\n",
    "        self.Data = Data\n",
    "        self.UserData_Flag = UserData_Flag"
   ]
  },
  {
   "cell_type": "code",
   "execution_count": 15,
   "metadata": {},
   "outputs": [],
   "source": [
    "def parseXMLtoString(root, string_search):\n",
    "    result = root.xpath(string_search)\n",
    "    if  (\"Data\" not in string_search) and (result):\n",
    "        result = str(result[0])\n",
    "\n",
    "    return result"
   ]
  },
  {
   "cell_type": "code",
   "execution_count": 17,
   "metadata": {},
   "outputs": [],
   "source": [
    "from lxml import etree\n",
    "import xmltodict\n",
    "\n",
    "os.chdir(caminho_para_arquivos_evtx)\n",
    "listaDe_eventos_dos_arquivos_evtx = []\n",
    "i = 0\n",
    "UserData_Flag = 0\n",
    "for nome_do_arquivo_evtx in glob.glob('*.evtx'):\n",
    "    conjunto_de_registros_do_evtx = PyEvtxParser(caminho_para_arquivos_evtx+nome_do_arquivo_evtx)\n",
    "    for registro in conjunto_de_registros_do_evtx.records():\n",
    "        event_level = re.search(r'<Level>(.*?)</Level>', registro['data']).group(1)\n",
    "        event_id = re.search(r'<EventID(?:[^>]*)>(\\d+)</EventID>', registro['data']).group(1)\n",
    "        #Event_level 1 e 2 são falhas\n",
    "        if(((\"Application\" in nome_do_arquivo_evtx) & (event_level == \"2\")) | ((\"System\" in nome_do_arquivo_evtx) & ((event_level == \"2\") | (event_level == \"1\")))):\n",
    "            i = i + 1\n",
    "            Filename = nome_do_arquivo_evtx.split(\"_\")[0]\n",
    "\n",
    "            #Em produção\n",
    "            # Filename = nome_do_arquivo_evtx\n",
    "\n",
    "\n",
    "            ID = i\n",
    "\n",
    "            #Removendo \"<?xml version=\"1.0\" encoding=\"utf-8\"?>\" do evento\n",
    "            line_filtered_1 = re.sub(r'<\\?xml([\\s\\S]*?)>\\n','',registro['data'])\n",
    "            #Removendo \"xmlns=\"http://schemas.microsoft.com/win/2004/08/events/event\"\" do evento\n",
    "            line_filtered_2 = re.sub(r' xmlns=\\\"([\\s\\S]*?)\\\"','',line_filtered_1)\n",
    "\n",
    "            try:\n",
    "                evento_estrutura_xml = etree.XML(line_filtered_2)\n",
    "\n",
    "                evento_estrutura_dict = xmltodict.parse(line_filtered_2)\n",
    "\n",
    "\n",
    "            except Exception as e:\n",
    "                with open('D:\\\\Dropbox\\\\Jupyter\\\\2023_Engine\\\\Output\\\\exception.txt', 'a', encoding='utf-8') as f:     \n",
    "                    f.write(nome_do_arquivo_evtx+\"_\"+str(ID)+\"_\"+str(e))\n",
    "                    f.write(\"\\n\")\n",
    "                    continue\n",
    "            else:\n",
    "\n",
    "                evento_estrutura_dict__tag_System = evento_estrutura_dict.get(\"Event\").get(\"System\")\n",
    "\n",
    "                SourceName = evento_estrutura_dict__tag_System.get(\"Provider\").get(\"@Name\")\n",
    "                if(SourceName is None):\n",
    "                    SourceName = evento_estrutura_dict__tag_System.get(\"Provider\").get(\"@EventSourceName\")\n",
    "\n",
    "\n",
    "                Provider_Guid = evento_estrutura_dict__tag_System.get(\"Provider\").get(\"@Guid\")\n",
    "\n",
    "                EventID = evento_estrutura_dict__tag_System.get(\"EventID\")\n",
    "                EventID_Qualifiers = None\n",
    "                if (type(EventID) != str):\n",
    "                    EventID = evento_estrutura_dict__tag_System.get(\"EventID\").get(\"#text\")\n",
    "                    EventID_Qualifiers = evento_estrutura_dict__tag_System.get(\"EventID\").get(\"@Qualifiers\")\n",
    "\n",
    "                # Removendo elementos que não são de falha.\n",
    "                if(SourceName.lower() in dict_non_failure_events.keys()):         \n",
    "                    listaDe_EventIDs = dict_non_failure_events[SourceName.lower()]         \n",
    "                    if(int(EventID) in listaDe_EventIDs):             \n",
    "                        continue\n",
    "\n",
    "                Version = evento_estrutura_dict__tag_System.get(\"Version\")\n",
    "                Level = evento_estrutura_dict__tag_System.get(\"Level\")\n",
    "                Task = evento_estrutura_dict__tag_System.get(\"Task\")\n",
    "                Opcode = evento_estrutura_dict__tag_System.get(\"Opcode\")\n",
    "                Keywords = evento_estrutura_dict__tag_System.get(\"Keywords\")\n",
    "                TimeCreated = evento_estrutura_dict__tag_System.get(\"TimeCreated\").get(\"@SystemTime\")\n",
    "                EventRecordID = evento_estrutura_dict__tag_System.get(\"EventRecordID\")\n",
    "\n",
    "                correlation = evento_estrutura_dict__tag_System.get(\"Correlation\")\n",
    "                Correlation_ActivityID = None\n",
    "                Correlation_RelatedActivityID = None\n",
    "                if(correlation is not None):\n",
    "                    Correlation_ActivityID = evento_estrutura_dict__tag_System.get(\"Correlation\").get(\"@ActivityID\")\n",
    "                    Correlation_RelatedActivityID = evento_estrutura_dict__tag_System.get(\"Correlation\").get(\"@RelatedActivityID\")\n",
    "\n",
    "                execution = evento_estrutura_dict__tag_System.get(\"Execution\")\n",
    "                ProcessID = None\n",
    "                ThreadID = None\n",
    "                if(execution is not None):\n",
    "                    ProcessID = evento_estrutura_dict__tag_System.get(\"Execution\").get(\"@ProcessID\")\n",
    "                    ThreadID = evento_estrutura_dict__tag_System.get(\"Execution\").get(\"@ThreadID\")\n",
    "\n",
    "                Channel = evento_estrutura_dict__tag_System.get(\"Channel\")\n",
    "                Computer = evento_estrutura_dict__tag_System.get(\"Computer\")\n",
    "\n",
    "                security = evento_estrutura_dict__tag_System.get(\"Security\")\n",
    "                UserID = None\n",
    "                if(security is not None):\n",
    "                    UserID = evento_estrutura_dict__tag_System.get(\"Security\").get(\"@UserID\")\n",
    "\n",
    "                dataTag = evento_estrutura_xml.getchildren()[1].tag\n",
    "\n",
    "                if (dataTag == 'ProcessingErrorData'):\n",
    "                    Data_Fields = list(evento_estrutura_dict.get(\"Event\").get(\"ProcessingErrorData\").keys())\n",
    "                    Data = list(evento_estrutura_dict.get(\"Event\").get(\"ProcessingErrorData\").values())\n",
    "                    UserData_Flag = 0\n",
    "                    Data_Event_Name = None\n",
    "\n",
    "                elif (dataTag != 'EventData'):        \n",
    "                    Data_Fields = list(evento_estrutura_dict.get(\"Event\").get(\"UserData\").get(list(evento_estrutura_dict.get(\"Event\").get(dataTag).keys())[0]).keys())\n",
    "                    Data = list(evento_estrutura_dict.get(\"Event\").get(\"UserData\").get(list(evento_estrutura_dict.get(\"Event\").get(dataTag).keys())[0]).values())\n",
    "                    UserData_Flag = 1\n",
    "                    Data_Event_Name = None\n",
    "\n",
    "                else:\n",
    "                    UserData_Flag = 0\n",
    "                    Data_Event_Name = None\n",
    "                    evento_estrutura_dictEventData = evento_estrutura_dict.get(\"Event\").get(\"EventData\")\n",
    "                    if(evento_estrutura_dictEventData is None):\n",
    "                        Data_Fields = None\n",
    "                        Data = None\n",
    "                    else:\n",
    "                        Data_Fields = (parseXMLtoString(evento_estrutura_xml, \".//Data/@Name\"))\n",
    "                        Data = (parseXMLtoString(evento_estrutura_xml, \".//Data/text()\"))\n",
    "\n",
    "                        if(len(evento_estrutura_dictEventData.keys()) > 1):\n",
    "                            if(list(evento_estrutura_dictEventData.keys())[1] == \"Binary\"):\n",
    "                                Data_Fields = [\"Data\", \"Binary\"]\n",
    "                                Data.append(evento_estrutura_dictEventData.get(\"Binary\"))\n",
    "                            else:\n",
    "                                Data_Event_Name = evento_estrutura_dictEventData.get(\"@Name\")\n",
    "\n",
    "                evento_unico = Event(\n",
    "                                Filename,\n",
    "                                ID,\n",
    "                                SourceName,\n",
    "                                Provider_Guid,\n",
    "                                EventID,\n",
    "                                EventID_Qualifiers,\n",
    "                                Version,\n",
    "                                Level,\n",
    "                                Task,\n",
    "                                Opcode,\n",
    "                                Keywords,\n",
    "                                TimeCreated,\n",
    "                                EventRecordID,\n",
    "                                Correlation_ActivityID,\n",
    "                                Correlation_RelatedActivityID,\n",
    "                                ProcessID,\n",
    "                                ThreadID,\n",
    "                                Channel,\n",
    "                                Computer,\n",
    "                                UserID,\n",
    "                                Data_Event_Name,\n",
    "                                Data_Fields,\n",
    "                                Data,\n",
    "                                UserData_Flag\n",
    "                            )\n",
    "                # print(evento_unico)\n",
    "                listaDe_eventos_dos_arquivos_evtx.append(evento_unico.__dict__)"
   ]
  },
  {
   "cell_type": "code",
   "execution_count": 18,
   "metadata": {},
   "outputs": [
    {
     "data": {
      "text/plain": [
       "1122"
      ]
     },
     "execution_count": 18,
     "metadata": {},
     "output_type": "execute_result"
    }
   ],
   "source": [
    "len(listaDe_eventos_dos_arquivos_evtx)"
   ]
  },
  {
   "cell_type": "code",
   "execution_count": 19,
   "metadata": {},
   "outputs": [
    {
     "data": {
      "text/html": [
       "<div>\n",
       "<style scoped>\n",
       "    .dataframe tbody tr th:only-of-type {\n",
       "        vertical-align: middle;\n",
       "    }\n",
       "\n",
       "    .dataframe tbody tr th {\n",
       "        vertical-align: top;\n",
       "    }\n",
       "\n",
       "    .dataframe thead th {\n",
       "        text-align: right;\n",
       "    }\n",
       "</style>\n",
       "<table border=\"1\" class=\"dataframe\">\n",
       "  <thead>\n",
       "    <tr style=\"text-align: right;\">\n",
       "      <th></th>\n",
       "      <th>Filename</th>\n",
       "      <th>ID</th>\n",
       "      <th>SourceName</th>\n",
       "      <th>Provider_Guid</th>\n",
       "      <th>EventID</th>\n",
       "      <th>EventID_Qualifiers</th>\n",
       "      <th>Version</th>\n",
       "      <th>Level</th>\n",
       "      <th>Task</th>\n",
       "      <th>Opcode</th>\n",
       "      <th>...</th>\n",
       "      <th>Correlation_RelatedActivityID</th>\n",
       "      <th>ProcessID</th>\n",
       "      <th>ThreadID</th>\n",
       "      <th>Channel</th>\n",
       "      <th>Computer</th>\n",
       "      <th>UserID</th>\n",
       "      <th>Data_Event_Name</th>\n",
       "      <th>Data_Fields</th>\n",
       "      <th>Data</th>\n",
       "      <th>UserData_Flag</th>\n",
       "    </tr>\n",
       "  </thead>\n",
       "  <tbody>\n",
       "    <tr>\n",
       "      <th>0</th>\n",
       "      <td>Application.evtx</td>\n",
       "      <td>1</td>\n",
       "      <td>VSS</td>\n",
       "      <td>None</td>\n",
       "      <td>13</td>\n",
       "      <td>0</td>\n",
       "      <td>0</td>\n",
       "      <td>2</td>\n",
       "      <td>0</td>\n",
       "      <td>0</td>\n",
       "      <td>...</td>\n",
       "      <td>None</td>\n",
       "      <td>0</td>\n",
       "      <td>0</td>\n",
       "      <td>Application</td>\n",
       "      <td>Athena</td>\n",
       "      <td>None</td>\n",
       "      <td>None</td>\n",
       "      <td>[Data, Binary]</td>\n",
       "      <td>[{4e14fba2-2e22-11d1-9964-00c04fbbb345},CEvent...</td>\n",
       "      <td>0</td>\n",
       "    </tr>\n",
       "    <tr>\n",
       "      <th>1</th>\n",
       "      <td>Application.evtx</td>\n",
       "      <td>2</td>\n",
       "      <td>VSS</td>\n",
       "      <td>None</td>\n",
       "      <td>8193</td>\n",
       "      <td>0</td>\n",
       "      <td>0</td>\n",
       "      <td>2</td>\n",
       "      <td>0</td>\n",
       "      <td>0</td>\n",
       "      <td>...</td>\n",
       "      <td>None</td>\n",
       "      <td>0</td>\n",
       "      <td>0</td>\n",
       "      <td>Application</td>\n",
       "      <td>Athena</td>\n",
       "      <td>None</td>\n",
       "      <td>None</td>\n",
       "      <td>[Data, Binary]</td>\n",
       "      <td>[CoCreateInstance,0x8007045b, A system shutdow...</td>\n",
       "      <td>0</td>\n",
       "    </tr>\n",
       "    <tr>\n",
       "      <th>2</th>\n",
       "      <td>Application.evtx</td>\n",
       "      <td>3</td>\n",
       "      <td>VSS</td>\n",
       "      <td>None</td>\n",
       "      <td>13</td>\n",
       "      <td>0</td>\n",
       "      <td>0</td>\n",
       "      <td>2</td>\n",
       "      <td>0</td>\n",
       "      <td>0</td>\n",
       "      <td>...</td>\n",
       "      <td>None</td>\n",
       "      <td>0</td>\n",
       "      <td>0</td>\n",
       "      <td>Application</td>\n",
       "      <td>Athena</td>\n",
       "      <td>None</td>\n",
       "      <td>None</td>\n",
       "      <td>[Data, Binary]</td>\n",
       "      <td>[{4e14fba2-2e22-11d1-9964-00c04fbbb345},CEvent...</td>\n",
       "      <td>0</td>\n",
       "    </tr>\n",
       "    <tr>\n",
       "      <th>3</th>\n",
       "      <td>Application.evtx</td>\n",
       "      <td>4</td>\n",
       "      <td>VSS</td>\n",
       "      <td>None</td>\n",
       "      <td>8193</td>\n",
       "      <td>0</td>\n",
       "      <td>0</td>\n",
       "      <td>2</td>\n",
       "      <td>0</td>\n",
       "      <td>0</td>\n",
       "      <td>...</td>\n",
       "      <td>None</td>\n",
       "      <td>0</td>\n",
       "      <td>0</td>\n",
       "      <td>Application</td>\n",
       "      <td>Athena</td>\n",
       "      <td>None</td>\n",
       "      <td>None</td>\n",
       "      <td>[Data, Binary]</td>\n",
       "      <td>[CoCreateInstance,0x8007045b, A system shutdow...</td>\n",
       "      <td>0</td>\n",
       "    </tr>\n",
       "    <tr>\n",
       "      <th>4</th>\n",
       "      <td>Application.evtx</td>\n",
       "      <td>5</td>\n",
       "      <td>Microsoft-Windows-Defrag</td>\n",
       "      <td>None</td>\n",
       "      <td>264</td>\n",
       "      <td>32768</td>\n",
       "      <td>0</td>\n",
       "      <td>2</td>\n",
       "      <td>0</td>\n",
       "      <td>0</td>\n",
       "      <td>...</td>\n",
       "      <td>None</td>\n",
       "      <td>0</td>\n",
       "      <td>0</td>\n",
       "      <td>Application</td>\n",
       "      <td>Athena</td>\n",
       "      <td>None</td>\n",
       "      <td>None</td>\n",
       "      <td>[Data, Binary]</td>\n",
       "      <td>[retrim,Data (D:),The operation requested is n...</td>\n",
       "      <td>0</td>\n",
       "    </tr>\n",
       "  </tbody>\n",
       "</table>\n",
       "<p>5 rows × 24 columns</p>\n",
       "</div>"
      ],
      "text/plain": [
       "           Filename  ID                SourceName Provider_Guid EventID  \\\n",
       "0  Application.evtx   1                       VSS          None      13   \n",
       "1  Application.evtx   2                       VSS          None    8193   \n",
       "2  Application.evtx   3                       VSS          None      13   \n",
       "3  Application.evtx   4                       VSS          None    8193   \n",
       "4  Application.evtx   5  Microsoft-Windows-Defrag          None     264   \n",
       "\n",
       "  EventID_Qualifiers Version Level Task Opcode  ...  \\\n",
       "0                  0       0     2    0      0  ...   \n",
       "1                  0       0     2    0      0  ...   \n",
       "2                  0       0     2    0      0  ...   \n",
       "3                  0       0     2    0      0  ...   \n",
       "4              32768       0     2    0      0  ...   \n",
       "\n",
       "  Correlation_RelatedActivityID ProcessID ThreadID      Channel Computer  \\\n",
       "0                          None         0        0  Application   Athena   \n",
       "1                          None         0        0  Application   Athena   \n",
       "2                          None         0        0  Application   Athena   \n",
       "3                          None         0        0  Application   Athena   \n",
       "4                          None         0        0  Application   Athena   \n",
       "\n",
       "  UserID Data_Event_Name     Data_Fields  \\\n",
       "0   None            None  [Data, Binary]   \n",
       "1   None            None  [Data, Binary]   \n",
       "2   None            None  [Data, Binary]   \n",
       "3   None            None  [Data, Binary]   \n",
       "4   None            None  [Data, Binary]   \n",
       "\n",
       "                                                Data UserData_Flag  \n",
       "0  [{4e14fba2-2e22-11d1-9964-00c04fbbb345},CEvent...             0  \n",
       "1  [CoCreateInstance,0x8007045b, A system shutdow...             0  \n",
       "2  [{4e14fba2-2e22-11d1-9964-00c04fbbb345},CEvent...             0  \n",
       "3  [CoCreateInstance,0x8007045b, A system shutdow...             0  \n",
       "4  [retrim,Data (D:),The operation requested is n...             0  \n",
       "\n",
       "[5 rows x 24 columns]"
      ]
     },
     "execution_count": 19,
     "metadata": {},
     "output_type": "execute_result"
    }
   ],
   "source": [
    "df_eventos = pd.DataFrame.from_records(listaDe_eventos_dos_arquivos_evtx)\n",
    "df_eventos.head()"
   ]
  },
  {
   "cell_type": "code",
   "execution_count": 20,
   "metadata": {},
   "outputs": [
    {
     "data": {
      "text/html": [
       "<div>\n",
       "<style scoped>\n",
       "    .dataframe tbody tr th:only-of-type {\n",
       "        vertical-align: middle;\n",
       "    }\n",
       "\n",
       "    .dataframe tbody tr th {\n",
       "        vertical-align: top;\n",
       "    }\n",
       "\n",
       "    .dataframe thead th {\n",
       "        text-align: right;\n",
       "    }\n",
       "</style>\n",
       "<table border=\"1\" class=\"dataframe\">\n",
       "  <thead>\n",
       "    <tr style=\"text-align: right;\">\n",
       "      <th></th>\n",
       "      <th>Filename</th>\n",
       "      <th>ID</th>\n",
       "      <th>SourceName</th>\n",
       "      <th>Provider_Guid</th>\n",
       "      <th>EventID</th>\n",
       "      <th>EventID_Qualifiers</th>\n",
       "      <th>Version</th>\n",
       "      <th>Level</th>\n",
       "      <th>Task</th>\n",
       "      <th>Opcode</th>\n",
       "      <th>...</th>\n",
       "      <th>Correlation_RelatedActivityID</th>\n",
       "      <th>ProcessID</th>\n",
       "      <th>ThreadID</th>\n",
       "      <th>Channel</th>\n",
       "      <th>Computer</th>\n",
       "      <th>UserID</th>\n",
       "      <th>Data_Event_Name</th>\n",
       "      <th>Data_Fields</th>\n",
       "      <th>Data</th>\n",
       "      <th>UserData_Flag</th>\n",
       "    </tr>\n",
       "  </thead>\n",
       "  <tbody>\n",
       "    <tr>\n",
       "      <th>1117</th>\n",
       "      <td>System.evtx</td>\n",
       "      <td>1119</td>\n",
       "      <td>Service Control Manager</td>\n",
       "      <td>{555908d1-a6d7-4695-8e1e-26931d2012f4}</td>\n",
       "      <td>7000</td>\n",
       "      <td>49152</td>\n",
       "      <td>0</td>\n",
       "      <td>2</td>\n",
       "      <td>0</td>\n",
       "      <td>0</td>\n",
       "      <td>...</td>\n",
       "      <td>None</td>\n",
       "      <td>960</td>\n",
       "      <td>4220</td>\n",
       "      <td>System</td>\n",
       "      <td>Athena</td>\n",
       "      <td>None</td>\n",
       "      <td>None</td>\n",
       "      <td>[Data, Binary]</td>\n",
       "      <td>[LMS, %%2, 4C004D0053000000]</td>\n",
       "      <td>0</td>\n",
       "    </tr>\n",
       "    <tr>\n",
       "      <th>1118</th>\n",
       "      <td>System.evtx</td>\n",
       "      <td>1120</td>\n",
       "      <td>VBoxNetLwf</td>\n",
       "      <td>None</td>\n",
       "      <td>12</td>\n",
       "      <td>49156</td>\n",
       "      <td>0</td>\n",
       "      <td>2</td>\n",
       "      <td>0</td>\n",
       "      <td>0</td>\n",
       "      <td>...</td>\n",
       "      <td>None</td>\n",
       "      <td>4</td>\n",
       "      <td>168</td>\n",
       "      <td>System</td>\n",
       "      <td>Athena</td>\n",
       "      <td>None</td>\n",
       "      <td>None</td>\n",
       "      <td>[Data, Binary]</td>\n",
       "      <td>[\\Device\\VBoxNetLwf, 0000000001000000000000000...</td>\n",
       "      <td>0</td>\n",
       "    </tr>\n",
       "    <tr>\n",
       "      <th>1119</th>\n",
       "      <td>System.evtx</td>\n",
       "      <td>1121</td>\n",
       "      <td>Service Control Manager</td>\n",
       "      <td>{555908d1-a6d7-4695-8e1e-26931d2012f4}</td>\n",
       "      <td>7000</td>\n",
       "      <td>49152</td>\n",
       "      <td>0</td>\n",
       "      <td>2</td>\n",
       "      <td>0</td>\n",
       "      <td>0</td>\n",
       "      <td>...</td>\n",
       "      <td>None</td>\n",
       "      <td>956</td>\n",
       "      <td>4024</td>\n",
       "      <td>System</td>\n",
       "      <td>Athena</td>\n",
       "      <td>None</td>\n",
       "      <td>None</td>\n",
       "      <td>[Data, Binary]</td>\n",
       "      <td>[LMS, %%2, 4C004D0053000000]</td>\n",
       "      <td>0</td>\n",
       "    </tr>\n",
       "    <tr>\n",
       "      <th>1120</th>\n",
       "      <td>System.evtx</td>\n",
       "      <td>1122</td>\n",
       "      <td>VBoxNetLwf</td>\n",
       "      <td>None</td>\n",
       "      <td>12</td>\n",
       "      <td>49156</td>\n",
       "      <td>0</td>\n",
       "      <td>2</td>\n",
       "      <td>0</td>\n",
       "      <td>0</td>\n",
       "      <td>...</td>\n",
       "      <td>None</td>\n",
       "      <td>4</td>\n",
       "      <td>264</td>\n",
       "      <td>System</td>\n",
       "      <td>Athena</td>\n",
       "      <td>None</td>\n",
       "      <td>None</td>\n",
       "      <td>[Data, Binary]</td>\n",
       "      <td>[\\Device\\VBoxNetLwf, 0000000001000000000000000...</td>\n",
       "      <td>0</td>\n",
       "    </tr>\n",
       "    <tr>\n",
       "      <th>1121</th>\n",
       "      <td>System.evtx</td>\n",
       "      <td>1123</td>\n",
       "      <td>Service Control Manager</td>\n",
       "      <td>{555908d1-a6d7-4695-8e1e-26931d2012f4}</td>\n",
       "      <td>7000</td>\n",
       "      <td>49152</td>\n",
       "      <td>0</td>\n",
       "      <td>2</td>\n",
       "      <td>0</td>\n",
       "      <td>0</td>\n",
       "      <td>...</td>\n",
       "      <td>None</td>\n",
       "      <td>952</td>\n",
       "      <td>4040</td>\n",
       "      <td>System</td>\n",
       "      <td>Athena</td>\n",
       "      <td>None</td>\n",
       "      <td>None</td>\n",
       "      <td>[Data, Binary]</td>\n",
       "      <td>[LMS, %%2, 4C004D0053000000]</td>\n",
       "      <td>0</td>\n",
       "    </tr>\n",
       "  </tbody>\n",
       "</table>\n",
       "<p>5 rows × 24 columns</p>\n",
       "</div>"
      ],
      "text/plain": [
       "         Filename    ID               SourceName  \\\n",
       "1117  System.evtx  1119  Service Control Manager   \n",
       "1118  System.evtx  1120               VBoxNetLwf   \n",
       "1119  System.evtx  1121  Service Control Manager   \n",
       "1120  System.evtx  1122               VBoxNetLwf   \n",
       "1121  System.evtx  1123  Service Control Manager   \n",
       "\n",
       "                               Provider_Guid EventID EventID_Qualifiers  \\\n",
       "1117  {555908d1-a6d7-4695-8e1e-26931d2012f4}    7000              49152   \n",
       "1118                                    None      12              49156   \n",
       "1119  {555908d1-a6d7-4695-8e1e-26931d2012f4}    7000              49152   \n",
       "1120                                    None      12              49156   \n",
       "1121  {555908d1-a6d7-4695-8e1e-26931d2012f4}    7000              49152   \n",
       "\n",
       "     Version Level Task Opcode  ... Correlation_RelatedActivityID ProcessID  \\\n",
       "1117       0     2    0      0  ...                          None       960   \n",
       "1118       0     2    0      0  ...                          None         4   \n",
       "1119       0     2    0      0  ...                          None       956   \n",
       "1120       0     2    0      0  ...                          None         4   \n",
       "1121       0     2    0      0  ...                          None       952   \n",
       "\n",
       "     ThreadID Channel Computer UserID Data_Event_Name     Data_Fields  \\\n",
       "1117     4220  System   Athena   None            None  [Data, Binary]   \n",
       "1118      168  System   Athena   None            None  [Data, Binary]   \n",
       "1119     4024  System   Athena   None            None  [Data, Binary]   \n",
       "1120      264  System   Athena   None            None  [Data, Binary]   \n",
       "1121     4040  System   Athena   None            None  [Data, Binary]   \n",
       "\n",
       "                                                   Data UserData_Flag  \n",
       "1117                       [LMS, %%2, 4C004D0053000000]             0  \n",
       "1118  [\\Device\\VBoxNetLwf, 0000000001000000000000000...             0  \n",
       "1119                       [LMS, %%2, 4C004D0053000000]             0  \n",
       "1120  [\\Device\\VBoxNetLwf, 0000000001000000000000000...             0  \n",
       "1121                       [LMS, %%2, 4C004D0053000000]             0  \n",
       "\n",
       "[5 rows x 24 columns]"
      ]
     },
     "execution_count": 20,
     "metadata": {},
     "output_type": "execute_result"
    }
   ],
   "source": [
    "df_eventos.tail()"
   ]
  },
  {
   "cell_type": "code",
   "execution_count": null,
   "metadata": {},
   "outputs": [],
   "source": []
  }
 ],
 "metadata": {
  "kernelspec": {
   "display_name": "venv",
   "language": "python",
   "name": "python3"
  },
  "language_info": {
   "codemirror_mode": {
    "name": "ipython",
    "version": 3
   },
   "file_extension": ".py",
   "mimetype": "text/x-python",
   "name": "python",
   "nbconvert_exporter": "python",
   "pygments_lexer": "ipython3",
   "version": "3.11.5"
  }
 },
 "nbformat": 4,
 "nbformat_minor": 2
}
