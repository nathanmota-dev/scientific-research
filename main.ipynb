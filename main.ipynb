{
 "cells": [
  {
   "cell_type": "markdown",
   "metadata": {},
   "source": [
    "Terminal -> New Terminal\n",
    "\n",
    "python3 -m venv venv\n",
    "\n",
    "source venv/bin/activate\n",
    "\n",
    "Select Kernel -> venv\n",
    "\n",
    "pip install evtx\n",
    "\n",
    "pip freeze > requirements.txt\n",
    "\n",
    "pip install -r requirements.txt (quando for instalar)"
   ]
  },
  {
   "cell_type": "code",
   "execution_count": 22,
   "metadata": {},
   "outputs": [],
   "source": [
    "import os #biblioteca fornece funções para interagir com o s.o, para manipulação de arquivos"
   ]
  },
  {
   "cell_type": "code",
   "execution_count": 23,
   "metadata": {},
   "outputs": [
    {
     "data": {
      "text/plain": [
       "'C:\\\\Users\\\\natha\\\\Desktop\\\\ic\\\\logs'"
      ]
     },
     "execution_count": 23,
     "metadata": {},
     "output_type": "execute_result"
    }
   ],
   "source": [
    "#cwd (current working directory)\n",
    "caminho_para_diretorio_atual = os.getcwd() # retorna o caminho para o diretório atual\n",
    "caminho_para_diretorio_atual # imprime o caminho para o diretório atual"
   ]
  },
  {
   "cell_type": "code",
   "execution_count": 24,
   "metadata": {},
   "outputs": [
    {
     "data": {
      "text/plain": [
       "'C:\\\\Users\\\\natha\\\\Desktop\\\\ic\\\\logs'"
      ]
     },
     "execution_count": 24,
     "metadata": {},
     "output_type": "execute_result"
    }
   ],
   "source": [
    "caminho_para_arquivos_evtx = \"C:/Users/natha/Desktop/ic/logs\" # caminho para os arquivos evtx\n",
    "#chdir (change directory)\n",
    "os.chdir(caminho_para_arquivos_evtx) # muda o diretório atual para o caminho para os arquivos evtx\n",
    "os.getcwd() # imprime o caminho para o diretório atual"
   ]
  },
  {
   "cell_type": "code",
   "execution_count": 25,
   "metadata": {},
   "outputs": [
    {
     "name": "stdout",
     "output_type": "stream",
     "text": [
      "Application.evtx\n",
      "System.evtx\n"
     ]
    }
   ],
   "source": [
    "import glob # essa biblioteca fornece funções para listar arquivos em um diretório de acordo com um padrão\n",
    "for nome_do_arquivo_evtx in glob.glob('*.evtx'): # lista todos os arquivos evtx no diretório atual e percorre cada um deles\n",
    "    print(nome_do_arquivo_evtx) # imprime o nome dos arquivos evtx"
   ]
  },
  {
   "cell_type": "code",
   "execution_count": 26,
   "metadata": {},
   "outputs": [
    {
     "name": "stdout",
     "output_type": "stream",
     "text": [
      "C:\\Users\\natha\\AppData\\Local\\Microsoft\\WindowsApps\\PythonSoftwareFoundation.Python.3.11_qbz5n2kfra8p0\\python.exe\n"
     ]
    }
   ],
   "source": [
    "import sys # essa biblioteca fornece funções e variáveis que servem para manipular diferentes partes do interpretador python\n",
    "print(sys.executable) # imprime o caminho para o interpretador python"
   ]
  },
  {
   "cell_type": "code",
   "execution_count": 27,
   "metadata": {},
   "outputs": [],
   "source": [
    "import sys \n",
    "sys.path.append('C:\\\\Users\\\\natha\\\\Desktop\\\\git\\\\scientific-research\\\\venv\\\\Lib\\\\site-packages') # adiciona o caminho para o site-packages do venv ao path do python\n"
   ]
  },
  {
   "cell_type": "code",
   "execution_count": 28,
   "metadata": {},
   "outputs": [
    {
     "name": "stdout",
     "output_type": "stream",
     "text": [
      "{'event_record_id': 127342, 'timestamp': '2023-09-02 18:04:26.708071 UTC', 'data': '<?xml version=\"1.0\" encoding=\"utf-8\"?>\\n<Event xmlns=\"http://schemas.microsoft.com/win/2004/08/events/event\">\\n  <System>\\n    <Provider Name=\"Microsoft-Windows-Security-SPP\" Guid=\"{E23B33B0-C8C9-472C-A5F9-F2BDFEA0F156}\" EventSourceName=\"Software Protection Platform Service\">\\n    </Provider>\\n    <EventID Qualifiers=\"49152\">16394</EventID>\\n    <Version>0</Version>\\n    <Level>4</Level>\\n    <Task>0</Task>\\n    <Opcode>0</Opcode>\\n    <Keywords>0x80000000000000</Keywords>\\n    <TimeCreated SystemTime=\"2023-09-02T18:04:26.708071Z\">\\n    </TimeCreated>\\n    <EventRecordID>127342</EventRecordID>\\n    <Correlation>\\n    </Correlation>\\n    <Execution ProcessID=\"0\" ThreadID=\"0\">\\n    </Execution>\\n    <Channel>Application</Channel>\\n    <Computer>Nathan</Computer>\\n    <Security>\\n    </Security>\\n  </System>\\n  <EventData>\\n    <Data></Data>\\n    <Binary></Binary>\\n  </EventData>\\n</Event>'}\n",
      "{'event_record_id': 251109, 'timestamp': '2023-06-28 03:25:29.947705 UTC', 'data': '<?xml version=\"1.0\" encoding=\"utf-8\"?>\\n<Event xmlns=\"http://schemas.microsoft.com/win/2004/08/events/event\">\\n  <System>\\n    <Provider Name=\"e1i65x64\">\\n    </Provider>\\n    <EventID Qualifiers=\"24580\">32</EventID>\\n    <Version>0</Version>\\n    <Level>4</Level>\\n    <Task>0</Task>\\n    <Opcode>0</Opcode>\\n    <Keywords>0x80000000000000</Keywords>\\n    <TimeCreated SystemTime=\"2023-06-28T03:25:29.947705Z\">\\n    </TimeCreated>\\n    <EventRecordID>251109</EventRecordID>\\n    <Correlation>\\n    </Correlation>\\n    <Execution ProcessID=\"4\" ThreadID=\"264\">\\n    </Execution>\\n    <Channel>System</Channel>\\n    <Computer>Nathan</Computer>\\n    <Security>\\n    </Security>\\n  </System>\\n  <EventData>\\n    <Data>,Intel(R) 82579V Gigabit Network Connection</Data>\\n    <Binary>0000040002003000000000002000046000000000000000000000000000000000000000000000000020000460</Binary>\\n  </EventData>\\n</Event>'}\n"
     ]
    }
   ],
   "source": [
    "import glob\n",
    "from evtx import PyEvtxParser # essa biblioteca fornece funções para manipular arquivos evtx\n",
    "\n",
    "for nome_do_arquivo_evtx in glob.glob('*.evtx'): # lista todos os arquivos evtx no diretório atual e percorre cada um deles\n",
    "    caminho_do_arquivo_evtx = caminho_para_arquivos_evtx + \"\\\\\" + nome_do_arquivo_evtx # concatena o caminho para o diretório atual com o nome do arquivo evtx\n",
    "    conjunto_de_registros_do_evtx = PyEvtxParser(caminho_do_arquivo_evtx) # instancia um objeto PyEvtxParser com o caminho do arquivo evtx\n",
    "    \n",
    "    for registro in conjunto_de_registros_do_evtx.records(): # percorre cada registro do arquivo evtx\n",
    "        print(registro) # imprime o registro\n",
    "        break # interrompe o loop"
   ]
  },
  {
   "cell_type": "code",
   "execution_count": 29,
   "metadata": {},
   "outputs": [
    {
     "data": {
      "text/plain": [
       "'<?xml version=\"1.0\" encoding=\"utf-8\"?>\\n<Event xmlns=\"http://schemas.microsoft.com/win/2004/08/events/event\">\\n  <System>\\n    <Provider Name=\"e1i65x64\">\\n    </Provider>\\n    <EventID Qualifiers=\"24580\">32</EventID>\\n    <Version>0</Version>\\n    <Level>4</Level>\\n    <Task>0</Task>\\n    <Opcode>0</Opcode>\\n    <Keywords>0x80000000000000</Keywords>\\n    <TimeCreated SystemTime=\"2023-06-28T03:25:29.947705Z\">\\n    </TimeCreated>\\n    <EventRecordID>251109</EventRecordID>\\n    <Correlation>\\n    </Correlation>\\n    <Execution ProcessID=\"4\" ThreadID=\"264\">\\n    </Execution>\\n    <Channel>System</Channel>\\n    <Computer>Nathan</Computer>\\n    <Security>\\n    </Security>\\n  </System>\\n  <EventData>\\n    <Data>,Intel(R) 82579V Gigabit Network Connection</Data>\\n    <Binary>0000040002003000000000002000046000000000000000000000000000000000000000000000000020000460</Binary>\\n  </EventData>\\n</Event>'"
      ]
     },
     "execution_count": 29,
     "metadata": {},
     "output_type": "execute_result"
    }
   ],
   "source": [
    "registro['data'] # acessa e imprime a data do registro"
   ]
  },
  {
   "cell_type": "markdown",
   "metadata": {},
   "source": [
    "O código busca uma string que começa com <Level>, seguida de qualquer conteúdo (capturado por (.*?)), e termina com </Level> dentro da string registro['data']."
   ]
  },
  {
   "cell_type": "code",
   "execution_count": 30,
   "metadata": {},
   "outputs": [
    {
     "data": {
      "text/plain": [
       "<re.Match object; span=(241, 257), match='<Level>4</Level>'>"
      ]
     },
     "execution_count": 30,
     "metadata": {},
     "output_type": "execute_result"
    }
   ],
   "source": [
    "import re # essa biblioteca fornece funções para manipular expressões regulares do python\n",
    "re.search(r'<Level>(.*?)</Level>', registro['data']) # faz uma pesquisa procurando e imprime o nível do registro"
   ]
  },
  {
   "cell_type": "markdown",
   "metadata": {},
   "source": [
    "Esta parte do código acessa o primeiro grupo de captura ((.*?)) do objeto de correspondência retornado por re.search(). Em expressões regulares, os grupos de captura são definidos colocando partes do padrão entre parênteses. Como (.*?) é o primeiro (e único) grupo de captura no padrão, .group(1) recupera o conteúdo correspondido por este grupo."
   ]
  },
  {
   "cell_type": "code",
   "execution_count": 31,
   "metadata": {},
   "outputs": [
    {
     "data": {
      "text/plain": [
       "'4'"
      ]
     },
     "execution_count": 31,
     "metadata": {},
     "output_type": "execute_result"
    }
   ],
   "source": [
    "re.search(r'<Level>(.*?)</Level>', registro['data']).group(1) # imprime o conteúdo da tag Level"
   ]
  },
  {
   "cell_type": "code",
   "execution_count": 32,
   "metadata": {},
   "outputs": [
    {
     "data": {
      "text/plain": [
       "'4'"
      ]
     },
     "execution_count": 32,
     "metadata": {},
     "output_type": "execute_result"
    }
   ],
   "source": [
    "event_level = re.search(r'<Level>(.*?)</Level>', registro['data']).group(1) # atribui o conteúdo da tag Level a variável event_level\n",
    "event_level # imprime o conteúdo da variável event_level"
   ]
  },
  {
   "cell_type": "markdown",
   "metadata": {},
   "source": [
    "# Event_level 1 e 2 são falhas"
   ]
  },
  {
   "cell_type": "code",
   "execution_count": 33,
   "metadata": {},
   "outputs": [],
   "source": [
    "# if(((\"Application\" in nome_do_arquivo_evtx) & (event_level == \"2\")) | ((\"System\" in nome_do_arquivo_evtx) & ((event_level == \"2\") | (event_level == \"1\")))):"
   ]
  },
  {
   "cell_type": "markdown",
   "metadata": {},
   "source": [
    "Como refatorar o código"
   ]
  },
  {
   "cell_type": "code",
   "execution_count": 34,
   "metadata": {},
   "outputs": [],
   "source": [
    "# conditions = [\n",
    "#     (\"Application\" in nome_do_arquivo_evtx and event_level == \"2\"),\n",
    "#     (\"System\" in nome_do_arquivo_evtx and event_level in (\"1\", \"2\"))\n",
    "# ]\n",
    "\n",
    "# if any(conditions):\n",
    "#     # Your code here\n"
   ]
  },
  {
   "cell_type": "markdown",
   "metadata": {},
   "source": [
    "### Eventos que não saõ de falhas, mas possuem Event_level 1 e 2"
   ]
  },
  {
   "cell_type": "code",
   "execution_count": 35,
   "metadata": {},
   "outputs": [
    {
     "ename": "FileNotFoundError",
     "evalue": "[Errno 2] No such file or directory: '1_non_failure_events.csv'",
     "output_type": "error",
     "traceback": [
      "\u001b[1;31m---------------------------------------------------------------------------\u001b[0m",
      "\u001b[1;31mFileNotFoundError\u001b[0m                         Traceback (most recent call last)",
      "Cell \u001b[1;32mIn[35], line 4\u001b[0m\n\u001b[0;32m      1\u001b[0m \u001b[38;5;28;01mimport\u001b[39;00m \u001b[38;5;21;01mpandas\u001b[39;00m \u001b[38;5;28;01mas\u001b[39;00m \u001b[38;5;21;01mpd\u001b[39;00m \u001b[38;5;66;03m# essa biblioteca fornece funções para manipular dataframes, normamente utilizada para análise de dados (fornece uma tabela de dados)\u001b[39;00m\n\u001b[0;32m      3\u001b[0m os\u001b[38;5;241m.\u001b[39mchdir(caminho_para_diretorio_atual) \u001b[38;5;66;03m# muda o diretório atual para o caminho para o diretório atual\u001b[39;00m\n\u001b[1;32m----> 4\u001b[0m df_non_failure_events \u001b[38;5;241m=\u001b[39m \u001b[43mpd\u001b[49m\u001b[38;5;241;43m.\u001b[39;49m\u001b[43mread_csv\u001b[49m\u001b[43m(\u001b[49m\u001b[38;5;124;43m\"\u001b[39;49m\u001b[38;5;124;43m1_non_failure_events.csv\u001b[39;49m\u001b[38;5;124;43m\"\u001b[39;49m\u001b[43m,\u001b[49m\u001b[43m \u001b[49m\u001b[43mencoding\u001b[49m\u001b[38;5;241;43m=\u001b[39;49m\u001b[38;5;124;43m'\u001b[39;49m\u001b[38;5;124;43mutf-8-sig\u001b[39;49m\u001b[38;5;124;43m'\u001b[39;49m\u001b[43m,\u001b[49m\u001b[43m \u001b[49m\u001b[43mengine\u001b[49m\u001b[38;5;241;43m=\u001b[39;49m\u001b[38;5;124;43m'\u001b[39;49m\u001b[38;5;124;43mpython\u001b[39;49m\u001b[38;5;124;43m'\u001b[39;49m\u001b[43m)\u001b[49m \u001b[38;5;66;03m# lê o arquivo csv e carrega os dados a um dataframe\u001b[39;00m\n\u001b[0;32m      5\u001b[0m df_non_failure_events \u001b[38;5;66;03m# imprime o dataframe\u001b[39;00m\n",
      "File \u001b[1;32m~\\AppData\\Local\\Packages\\PythonSoftwareFoundation.Python.3.11_qbz5n2kfra8p0\\LocalCache\\local-packages\\Python311\\site-packages\\pandas\\io\\parsers\\readers.py:1026\u001b[0m, in \u001b[0;36mread_csv\u001b[1;34m(filepath_or_buffer, sep, delimiter, header, names, index_col, usecols, dtype, engine, converters, true_values, false_values, skipinitialspace, skiprows, skipfooter, nrows, na_values, keep_default_na, na_filter, verbose, skip_blank_lines, parse_dates, infer_datetime_format, keep_date_col, date_parser, date_format, dayfirst, cache_dates, iterator, chunksize, compression, thousands, decimal, lineterminator, quotechar, quoting, doublequote, escapechar, comment, encoding, encoding_errors, dialect, on_bad_lines, delim_whitespace, low_memory, memory_map, float_precision, storage_options, dtype_backend)\u001b[0m\n\u001b[0;32m   1013\u001b[0m kwds_defaults \u001b[38;5;241m=\u001b[39m _refine_defaults_read(\n\u001b[0;32m   1014\u001b[0m     dialect,\n\u001b[0;32m   1015\u001b[0m     delimiter,\n\u001b[1;32m   (...)\u001b[0m\n\u001b[0;32m   1022\u001b[0m     dtype_backend\u001b[38;5;241m=\u001b[39mdtype_backend,\n\u001b[0;32m   1023\u001b[0m )\n\u001b[0;32m   1024\u001b[0m kwds\u001b[38;5;241m.\u001b[39mupdate(kwds_defaults)\n\u001b[1;32m-> 1026\u001b[0m \u001b[38;5;28;01mreturn\u001b[39;00m \u001b[43m_read\u001b[49m\u001b[43m(\u001b[49m\u001b[43mfilepath_or_buffer\u001b[49m\u001b[43m,\u001b[49m\u001b[43m \u001b[49m\u001b[43mkwds\u001b[49m\u001b[43m)\u001b[49m\n",
      "File \u001b[1;32m~\\AppData\\Local\\Packages\\PythonSoftwareFoundation.Python.3.11_qbz5n2kfra8p0\\LocalCache\\local-packages\\Python311\\site-packages\\pandas\\io\\parsers\\readers.py:620\u001b[0m, in \u001b[0;36m_read\u001b[1;34m(filepath_or_buffer, kwds)\u001b[0m\n\u001b[0;32m    617\u001b[0m _validate_names(kwds\u001b[38;5;241m.\u001b[39mget(\u001b[38;5;124m\"\u001b[39m\u001b[38;5;124mnames\u001b[39m\u001b[38;5;124m\"\u001b[39m, \u001b[38;5;28;01mNone\u001b[39;00m))\n\u001b[0;32m    619\u001b[0m \u001b[38;5;66;03m# Create the parser.\u001b[39;00m\n\u001b[1;32m--> 620\u001b[0m parser \u001b[38;5;241m=\u001b[39m \u001b[43mTextFileReader\u001b[49m\u001b[43m(\u001b[49m\u001b[43mfilepath_or_buffer\u001b[49m\u001b[43m,\u001b[49m\u001b[43m \u001b[49m\u001b[38;5;241;43m*\u001b[39;49m\u001b[38;5;241;43m*\u001b[39;49m\u001b[43mkwds\u001b[49m\u001b[43m)\u001b[49m\n\u001b[0;32m    622\u001b[0m \u001b[38;5;28;01mif\u001b[39;00m chunksize \u001b[38;5;129;01mor\u001b[39;00m iterator:\n\u001b[0;32m    623\u001b[0m     \u001b[38;5;28;01mreturn\u001b[39;00m parser\n",
      "File \u001b[1;32m~\\AppData\\Local\\Packages\\PythonSoftwareFoundation.Python.3.11_qbz5n2kfra8p0\\LocalCache\\local-packages\\Python311\\site-packages\\pandas\\io\\parsers\\readers.py:1620\u001b[0m, in \u001b[0;36mTextFileReader.__init__\u001b[1;34m(self, f, engine, **kwds)\u001b[0m\n\u001b[0;32m   1617\u001b[0m     \u001b[38;5;28mself\u001b[39m\u001b[38;5;241m.\u001b[39moptions[\u001b[38;5;124m\"\u001b[39m\u001b[38;5;124mhas_index_names\u001b[39m\u001b[38;5;124m\"\u001b[39m] \u001b[38;5;241m=\u001b[39m kwds[\u001b[38;5;124m\"\u001b[39m\u001b[38;5;124mhas_index_names\u001b[39m\u001b[38;5;124m\"\u001b[39m]\n\u001b[0;32m   1619\u001b[0m \u001b[38;5;28mself\u001b[39m\u001b[38;5;241m.\u001b[39mhandles: IOHandles \u001b[38;5;241m|\u001b[39m \u001b[38;5;28;01mNone\u001b[39;00m \u001b[38;5;241m=\u001b[39m \u001b[38;5;28;01mNone\u001b[39;00m\n\u001b[1;32m-> 1620\u001b[0m \u001b[38;5;28mself\u001b[39m\u001b[38;5;241m.\u001b[39m_engine \u001b[38;5;241m=\u001b[39m \u001b[38;5;28;43mself\u001b[39;49m\u001b[38;5;241;43m.\u001b[39;49m\u001b[43m_make_engine\u001b[49m\u001b[43m(\u001b[49m\u001b[43mf\u001b[49m\u001b[43m,\u001b[49m\u001b[43m \u001b[49m\u001b[38;5;28;43mself\u001b[39;49m\u001b[38;5;241;43m.\u001b[39;49m\u001b[43mengine\u001b[49m\u001b[43m)\u001b[49m\n",
      "File \u001b[1;32m~\\AppData\\Local\\Packages\\PythonSoftwareFoundation.Python.3.11_qbz5n2kfra8p0\\LocalCache\\local-packages\\Python311\\site-packages\\pandas\\io\\parsers\\readers.py:1880\u001b[0m, in \u001b[0;36mTextFileReader._make_engine\u001b[1;34m(self, f, engine)\u001b[0m\n\u001b[0;32m   1878\u001b[0m     \u001b[38;5;28;01mif\u001b[39;00m \u001b[38;5;124m\"\u001b[39m\u001b[38;5;124mb\u001b[39m\u001b[38;5;124m\"\u001b[39m \u001b[38;5;129;01mnot\u001b[39;00m \u001b[38;5;129;01min\u001b[39;00m mode:\n\u001b[0;32m   1879\u001b[0m         mode \u001b[38;5;241m+\u001b[39m\u001b[38;5;241m=\u001b[39m \u001b[38;5;124m\"\u001b[39m\u001b[38;5;124mb\u001b[39m\u001b[38;5;124m\"\u001b[39m\n\u001b[1;32m-> 1880\u001b[0m \u001b[38;5;28mself\u001b[39m\u001b[38;5;241m.\u001b[39mhandles \u001b[38;5;241m=\u001b[39m \u001b[43mget_handle\u001b[49m\u001b[43m(\u001b[49m\n\u001b[0;32m   1881\u001b[0m \u001b[43m    \u001b[49m\u001b[43mf\u001b[49m\u001b[43m,\u001b[49m\n\u001b[0;32m   1882\u001b[0m \u001b[43m    \u001b[49m\u001b[43mmode\u001b[49m\u001b[43m,\u001b[49m\n\u001b[0;32m   1883\u001b[0m \u001b[43m    \u001b[49m\u001b[43mencoding\u001b[49m\u001b[38;5;241;43m=\u001b[39;49m\u001b[38;5;28;43mself\u001b[39;49m\u001b[38;5;241;43m.\u001b[39;49m\u001b[43moptions\u001b[49m\u001b[38;5;241;43m.\u001b[39;49m\u001b[43mget\u001b[49m\u001b[43m(\u001b[49m\u001b[38;5;124;43m\"\u001b[39;49m\u001b[38;5;124;43mencoding\u001b[39;49m\u001b[38;5;124;43m\"\u001b[39;49m\u001b[43m,\u001b[49m\u001b[43m \u001b[49m\u001b[38;5;28;43;01mNone\u001b[39;49;00m\u001b[43m)\u001b[49m\u001b[43m,\u001b[49m\n\u001b[0;32m   1884\u001b[0m \u001b[43m    \u001b[49m\u001b[43mcompression\u001b[49m\u001b[38;5;241;43m=\u001b[39;49m\u001b[38;5;28;43mself\u001b[39;49m\u001b[38;5;241;43m.\u001b[39;49m\u001b[43moptions\u001b[49m\u001b[38;5;241;43m.\u001b[39;49m\u001b[43mget\u001b[49m\u001b[43m(\u001b[49m\u001b[38;5;124;43m\"\u001b[39;49m\u001b[38;5;124;43mcompression\u001b[39;49m\u001b[38;5;124;43m\"\u001b[39;49m\u001b[43m,\u001b[49m\u001b[43m \u001b[49m\u001b[38;5;28;43;01mNone\u001b[39;49;00m\u001b[43m)\u001b[49m\u001b[43m,\u001b[49m\n\u001b[0;32m   1885\u001b[0m \u001b[43m    \u001b[49m\u001b[43mmemory_map\u001b[49m\u001b[38;5;241;43m=\u001b[39;49m\u001b[38;5;28;43mself\u001b[39;49m\u001b[38;5;241;43m.\u001b[39;49m\u001b[43moptions\u001b[49m\u001b[38;5;241;43m.\u001b[39;49m\u001b[43mget\u001b[49m\u001b[43m(\u001b[49m\u001b[38;5;124;43m\"\u001b[39;49m\u001b[38;5;124;43mmemory_map\u001b[39;49m\u001b[38;5;124;43m\"\u001b[39;49m\u001b[43m,\u001b[49m\u001b[43m \u001b[49m\u001b[38;5;28;43;01mFalse\u001b[39;49;00m\u001b[43m)\u001b[49m\u001b[43m,\u001b[49m\n\u001b[0;32m   1886\u001b[0m \u001b[43m    \u001b[49m\u001b[43mis_text\u001b[49m\u001b[38;5;241;43m=\u001b[39;49m\u001b[43mis_text\u001b[49m\u001b[43m,\u001b[49m\n\u001b[0;32m   1887\u001b[0m \u001b[43m    \u001b[49m\u001b[43merrors\u001b[49m\u001b[38;5;241;43m=\u001b[39;49m\u001b[38;5;28;43mself\u001b[39;49m\u001b[38;5;241;43m.\u001b[39;49m\u001b[43moptions\u001b[49m\u001b[38;5;241;43m.\u001b[39;49m\u001b[43mget\u001b[49m\u001b[43m(\u001b[49m\u001b[38;5;124;43m\"\u001b[39;49m\u001b[38;5;124;43mencoding_errors\u001b[39;49m\u001b[38;5;124;43m\"\u001b[39;49m\u001b[43m,\u001b[49m\u001b[43m \u001b[49m\u001b[38;5;124;43m\"\u001b[39;49m\u001b[38;5;124;43mstrict\u001b[39;49m\u001b[38;5;124;43m\"\u001b[39;49m\u001b[43m)\u001b[49m\u001b[43m,\u001b[49m\n\u001b[0;32m   1888\u001b[0m \u001b[43m    \u001b[49m\u001b[43mstorage_options\u001b[49m\u001b[38;5;241;43m=\u001b[39;49m\u001b[38;5;28;43mself\u001b[39;49m\u001b[38;5;241;43m.\u001b[39;49m\u001b[43moptions\u001b[49m\u001b[38;5;241;43m.\u001b[39;49m\u001b[43mget\u001b[49m\u001b[43m(\u001b[49m\u001b[38;5;124;43m\"\u001b[39;49m\u001b[38;5;124;43mstorage_options\u001b[39;49m\u001b[38;5;124;43m\"\u001b[39;49m\u001b[43m,\u001b[49m\u001b[43m \u001b[49m\u001b[38;5;28;43;01mNone\u001b[39;49;00m\u001b[43m)\u001b[49m\u001b[43m,\u001b[49m\n\u001b[0;32m   1889\u001b[0m \u001b[43m\u001b[49m\u001b[43m)\u001b[49m\n\u001b[0;32m   1890\u001b[0m \u001b[38;5;28;01massert\u001b[39;00m \u001b[38;5;28mself\u001b[39m\u001b[38;5;241m.\u001b[39mhandles \u001b[38;5;129;01mis\u001b[39;00m \u001b[38;5;129;01mnot\u001b[39;00m \u001b[38;5;28;01mNone\u001b[39;00m\n\u001b[0;32m   1891\u001b[0m f \u001b[38;5;241m=\u001b[39m \u001b[38;5;28mself\u001b[39m\u001b[38;5;241m.\u001b[39mhandles\u001b[38;5;241m.\u001b[39mhandle\n",
      "File \u001b[1;32m~\\AppData\\Local\\Packages\\PythonSoftwareFoundation.Python.3.11_qbz5n2kfra8p0\\LocalCache\\local-packages\\Python311\\site-packages\\pandas\\io\\common.py:873\u001b[0m, in \u001b[0;36mget_handle\u001b[1;34m(path_or_buf, mode, encoding, compression, memory_map, is_text, errors, storage_options)\u001b[0m\n\u001b[0;32m    868\u001b[0m \u001b[38;5;28;01melif\u001b[39;00m \u001b[38;5;28misinstance\u001b[39m(handle, \u001b[38;5;28mstr\u001b[39m):\n\u001b[0;32m    869\u001b[0m     \u001b[38;5;66;03m# Check whether the filename is to be opened in binary mode.\u001b[39;00m\n\u001b[0;32m    870\u001b[0m     \u001b[38;5;66;03m# Binary mode does not support 'encoding' and 'newline'.\u001b[39;00m\n\u001b[0;32m    871\u001b[0m     \u001b[38;5;28;01mif\u001b[39;00m ioargs\u001b[38;5;241m.\u001b[39mencoding \u001b[38;5;129;01mand\u001b[39;00m \u001b[38;5;124m\"\u001b[39m\u001b[38;5;124mb\u001b[39m\u001b[38;5;124m\"\u001b[39m \u001b[38;5;129;01mnot\u001b[39;00m \u001b[38;5;129;01min\u001b[39;00m ioargs\u001b[38;5;241m.\u001b[39mmode:\n\u001b[0;32m    872\u001b[0m         \u001b[38;5;66;03m# Encoding\u001b[39;00m\n\u001b[1;32m--> 873\u001b[0m         handle \u001b[38;5;241m=\u001b[39m \u001b[38;5;28;43mopen\u001b[39;49m\u001b[43m(\u001b[49m\n\u001b[0;32m    874\u001b[0m \u001b[43m            \u001b[49m\u001b[43mhandle\u001b[49m\u001b[43m,\u001b[49m\n\u001b[0;32m    875\u001b[0m \u001b[43m            \u001b[49m\u001b[43mioargs\u001b[49m\u001b[38;5;241;43m.\u001b[39;49m\u001b[43mmode\u001b[49m\u001b[43m,\u001b[49m\n\u001b[0;32m    876\u001b[0m \u001b[43m            \u001b[49m\u001b[43mencoding\u001b[49m\u001b[38;5;241;43m=\u001b[39;49m\u001b[43mioargs\u001b[49m\u001b[38;5;241;43m.\u001b[39;49m\u001b[43mencoding\u001b[49m\u001b[43m,\u001b[49m\n\u001b[0;32m    877\u001b[0m \u001b[43m            \u001b[49m\u001b[43merrors\u001b[49m\u001b[38;5;241;43m=\u001b[39;49m\u001b[43merrors\u001b[49m\u001b[43m,\u001b[49m\n\u001b[0;32m    878\u001b[0m \u001b[43m            \u001b[49m\u001b[43mnewline\u001b[49m\u001b[38;5;241;43m=\u001b[39;49m\u001b[38;5;124;43m\"\u001b[39;49m\u001b[38;5;124;43m\"\u001b[39;49m\u001b[43m,\u001b[49m\n\u001b[0;32m    879\u001b[0m \u001b[43m        \u001b[49m\u001b[43m)\u001b[49m\n\u001b[0;32m    880\u001b[0m     \u001b[38;5;28;01melse\u001b[39;00m:\n\u001b[0;32m    881\u001b[0m         \u001b[38;5;66;03m# Binary mode\u001b[39;00m\n\u001b[0;32m    882\u001b[0m         handle \u001b[38;5;241m=\u001b[39m \u001b[38;5;28mopen\u001b[39m(handle, ioargs\u001b[38;5;241m.\u001b[39mmode)\n",
      "\u001b[1;31mFileNotFoundError\u001b[0m: [Errno 2] No such file or directory: '1_non_failure_events.csv'"
     ]
    }
   ],
   "source": [
    "import pandas as pd # essa biblioteca fornece funções para manipular dataframes, normamente utilizada para análise de dados (fornece uma tabela de dados)\n",
    "\n",
    "os.chdir(caminho_para_diretorio_atual) # muda o diretório atual para o caminho para o diretório atual\n",
    "df_non_failure_events = pd.read_csv(\"1_non_failure_events.csv\", encoding='utf-8-sig', engine='python') # lê o arquivo csv e carrega os dados a um dataframe\n",
    "df_non_failure_events # imprime o dataframe"
   ]
  },
  {
   "cell_type": "code",
   "execution_count": null,
   "metadata": {},
   "outputs": [
    {
     "data": {
      "text/plain": [
       "defaultdict(list,\n",
       "            {'trend micro officescan': [900],\n",
       "             'eventlog': [6008],\n",
       "             'tcpip': [4199],\n",
       "             'server': [2505],\n",
       "             'netbt': [4321, 4319],\n",
       "             'microsoft-windows-kernel-power': [41]})"
      ]
     },
     "execution_count": 15,
     "metadata": {},
     "output_type": "execute_result"
    }
   ],
   "source": [
    "from collections import defaultdict # essa biblioteca é um dicionário que permite que o usuário defina um valor padrão para chaves inexistentes\n",
    "\n",
    "\n",
    "dict_non_failure_events = defaultdict(list) # cria um defaultdict onde cada nova chave terá uma lista vazia como valor padrão e atribui a uma variável\n",
    "for k, v in zip(df_non_failure_events.SourceName, df_non_failure_events.EventID): # percorre cada linha do dataframe\n",
    "    dict_non_failure_events[k].append(v) # adiciona o valor da coluna SourceName como chave e o valor da coluna EventID como valor ao defaultdict\n",
    "dict_non_failure_events # imprime o defaultdict"
   ]
  },
  {
   "cell_type": "markdown",
   "metadata": {},
   "source": [
    "# Código Completo"
   ]
  },
  {
   "cell_type": "code",
   "execution_count": null,
   "metadata": {},
   "outputs": [],
   "source": [
    "class Event(object):\n",
    "    def __init__(\n",
    "        self,\n",
    "        Filename,\n",
    "        ID,\n",
    "        SourceName,\n",
    "        Provider_Guid,\n",
    "        EventID,\n",
    "        EventID_Qualifiers,\n",
    "        Version,\n",
    "        Level,\n",
    "        Task,\n",
    "        Opcode,\n",
    "        Keywords,\n",
    "        TimeCreated,\n",
    "        EventRecordID,\n",
    "        Correlation_ActivityID,\n",
    "        Correlation_RelatedActivityID,\n",
    "        ProcessID,\n",
    "        ThreadID,\n",
    "        Channel,\n",
    "        Computer,\n",
    "        UserID,\n",
    "        Data_Event_Name,\n",
    "        Data_Fields,\n",
    "        Data,\n",
    "        UserData_Flag\n",
    "    ):\n",
    "        self.Filename = Filename\n",
    "        self.ID = ID\n",
    "        self.SourceName = SourceName\n",
    "        self.Provider_Guid = Provider_Guid\n",
    "        self.EventID = EventID\n",
    "        self.EventID_Qualifiers = EventID_Qualifiers\n",
    "        self.Version = Version\n",
    "        self.Level = Level\n",
    "        self.Task = Task\n",
    "        self.Opcode = Opcode\n",
    "        self.Keywords = Keywords\n",
    "        self.TimeCreated = TimeCreated\n",
    "        self.EventRecordID = EventRecordID\n",
    "        self.Correlation_ActivityID = Correlation_ActivityID\n",
    "        self.Correlation_RelatedActivityID = Correlation_RelatedActivityID\n",
    "        self.ProcessID = ProcessID\n",
    "        self.ThreadID = ThreadID\n",
    "        self.Channel = Channel\n",
    "        self.Computer = Computer\n",
    "        self.UserID = UserID\n",
    "        self.Data_Event_Name = Data_Event_Name\n",
    "        self.Data_Fields = Data_Fields\n",
    "        self.Data = Data\n",
    "        self.UserData_Flag = UserData_Flag"
   ]
  },
  {
   "cell_type": "code",
   "execution_count": null,
   "metadata": {},
   "outputs": [],
   "source": [
    "def parseXMLtoString(root, string_search): # define a função parseXMLtoString com os parâmetros root e string_search\n",
    "    result = root.xpath(string_search) # atribui a variável result o resultado da busca da string_search no root\n",
    "    if  (\"Data\" not in string_search) and (result): # se a string_search não contém Data e result não é vazio\n",
    "        result = str(result[0]) # atribui a variável result o primeiro elemento da lista result convertido para string\n",
    "\n",
    "    return result # retorna o resultado"
   ]
  },
  {
   "cell_type": "code",
   "execution_count": null,
   "metadata": {},
   "outputs": [],
   "source": [
    "from lxml import etree # parsing de XML\n",
    "import xmltodict # parsing de XML\n",
    "\n",
    "# Muda o diretório de trabalho atual para o diretório dos arquivos EVTX\n",
    "os.chdir(caminho_para_arquivos_evtx)\n",
    "\n",
    "# Inicializa uma lista para armazenar os eventos dos arquivos EVTX\n",
    "listaDe_eventos_dos_arquivos_evtx = []\n",
    "\n",
    "# Inicializa um contador para identificar os eventos\n",
    "i = 0\n",
    "\n",
    "# Inicializa uma flag para marcar a presença de UserData\n",
    "UserData_Flag = 0\n",
    "\n",
    "# Itera sobre cada arquivo .evtx encontrado no diretório atual\n",
    "for nome_do_arquivo_evtx in glob.glob('*.evtx'):\n",
    "    # Constrói o caminho completo para o arquivo .evtx\n",
    "    caminho_do_arquivo_evtx = caminho_para_arquivos_evtx + \"\\\\\" + nome_do_arquivo_evtx\n",
    "    \n",
    "    # Cria uma instância de PyEvtxParser para o arquivo .evtx especificado\n",
    "    conjunto_de_registros_do_evtx = PyEvtxParser(caminho_do_arquivo_evtx)\n",
    "    \n",
    "    # Itera sobre cada registro no conjunto de registros do arquivo .evtx\n",
    "    for registro in conjunto_de_registros_do_evtx.records():\n",
    "        # Extrai o nível do evento do registro\n",
    "        event_level = re.search(r'<Level>(.*?)</Level>', registro['data']).group(1)\n",
    "        \n",
    "        # Extrai o ID do evento do registro\n",
    "        event_id = re.search(r'<EventID(?:[^>]*)>(\\d+)</EventID>', registro['data']).group(1)\n",
    "        \n",
    "        # Define condições para eventos de falha\n",
    "        conditions = [\n",
    "            (\"Application\" in nome_do_arquivo_evtx and event_level == \"2\"),\n",
    "            (\"System\" in nome_do_arquivo_evtx and event_level in (\"1\", \"2\"))\n",
    "        ]\n",
    "        \n",
    "        # Verifica se alguma condição de falha é atendida\n",
    "        if any(conditions):\n",
    "            # Incrementa o contador de eventos\n",
    "            i = i + 1\n",
    "            \n",
    "            # Obtém o nome do arquivo, removendo o que está à direita de \"_\"\n",
    "            Filename = nome_do_arquivo_evtx.split(\"_\")[0]\n",
    "            \n",
    "            # Define o ID do evento\n",
    "            ID = i\n",
    "            \n",
    "            # Remove a declaração XML do evento\n",
    "            line_filtered_1 = re.sub(r'<\\?xml([\\s\\S]*?)>\\n','',registro['data'])\n",
    "            \n",
    "            # Remove o namespace do evento\n",
    "            line_filtered_2 = re.sub(r' xmlns=\\\"([\\s\\S]*?)\\\"','',line_filtered_1)\n",
    "            \n",
    "            try:\n",
    "                # Converte a string do evento em um objeto XML\n",
    "                evento_estrutura_xml = etree.XML(line_filtered_2)\n",
    "                \n",
    "                # Converte a string do evento em um dicionário\n",
    "                evento_estrutura_dict = xmltodict.parse(line_filtered_2)\n",
    "            except Exception as e:\n",
    "                # Registra exceções em um arquivo de log e continua\n",
    "                with open(r\"C:\\Users\\natha\\Desktop\\git\\scientific-research\\exception.txt\", 'a', encoding='utf-8') as f:\n",
    "                    f.write(nome_do_arquivo_evtx+\"_\"+str(ID)+\"_\"+str(e))\n",
    "                    f.write(\"\\n\")\n",
    "                continue\n",
    "            else:\n",
    "                # Obtém a seção System do evento como dicionário\n",
    "                evento_estrutura_dict__tag_System = evento_estrutura_dict.get(\"Event\").get(\"System\")\n",
    "                \n",
    "                # Obtém o nome da fonte do evento\n",
    "                SourceName = evento_estrutura_dict__tag_System.get(\"Provider\").get(\"@Name\")\n",
    "                if(SourceName is None):\n",
    "                    SourceName = evento_estrutura_dict__tag_System.get(\"Provider\").get(\"@EventSourceName\")\n",
    "                \n",
    "                # Obtém o GUID do provedor do evento\n",
    "                Provider_Guid = evento_estrutura_dict__tag_System.get(\"Provider\").get(\"@Guid\")\n",
    "                \n",
    "                # Obtém o ID do evento\n",
    "                EventID = evento_estrutura_dict__tag_System.get(\"EventID\")\n",
    "                EventID_Qualifiers = None\n",
    "                if (type(EventID) != str):\n",
    "                    EventID = evento_estrutura_dict__tag_System.get(\"EventID\").get(\"#text\")\n",
    "                    EventID_Qualifiers = evento_estrutura_dict__tag_System.get(\"EventID\").get(\"@Qualifiers\")\n",
    "                \n",
    "                # Verifica se o evento não é de falha\n",
    "                if(SourceName.lower() in dict_non_failure_events.keys()):\n",
    "                    listaDe_EventIDs = dict_non_failure_events[SourceName.lower()]\n",
    "                    if(int(EventID) in listaDe_EventIDs):\n",
    "                        continue\n",
    "                \n",
    "                # Obtém outros campos do evento\n",
    "                Version = evento_estrutura_dict__tag_System.get(\"Version\")\n",
    "                Level = evento_estrutura_dict__tag_System.get(\"Level\")\n",
    "                Task = evento_estrutura_dict__tag_System.get(\"Task\")\n",
    "                Opcode = evento_estrutura_dict__tag_System.get(\"Opcode\")\n",
    "                Keywords = evento_estrutura_dict__tag_System.get(\"Keywords\")\n",
    "                TimeCreated = evento_estrutura_dict__tag_System.get(\"TimeCreated\").get(\"@SystemTime\")\n",
    "                EventRecordID = evento_estrutura_dict__tag_System.get(\"EventRecordID\")\n",
    "                \n",
    "                # Obtém os IDs de correlação do evento, se presentes\n",
    "                correlation = evento_estrutura_dict__tag_System.get(\"Correlation\")\n",
    "                Correlation_ActivityID = None\n",
    "                Correlation_RelatedActivityID = None\n",
    "                if(correlation is not None):\n",
    "                    Correlation_ActivityID = evento_estrutura_dict__tag_System.get(\"Correlation\").get(\"@ActivityID\")\n",
    "                    Correlation_RelatedActivityID = evento_estrutura_dict__tag_System.get(\"Correlation\").get(\"@RelatedActivityID\")\n",
    "                \n",
    "                # Obtém IDs de processo e thread do evento, se presentes\n",
    "                execution = evento_estrutura_dict__tag_System.get(\"Execution\")\n",
    "                ProcessID = None\n",
    "                ThreadID = None\n",
    "                if(execution is not None):\n",
    "                    ProcessID = evento_estrutura_dict__tag_System.get(\"Execution\").get(\"@ProcessID\")\n",
    "                    ThreadID = evento_estrutura_dict__tag_System.get(\"Execution\").get(\"@ThreadID\")\n",
    "                \n",
    "                # Obtém o canal do evento\n",
    "                Channel = evento_estrutura_dict__tag_System.get(\"Channel\")\n",
    "                \n",
    "                # Obtém o computador do evento\n",
    "                Computer = evento_estrutura_dict__tag_System.get(\"Computer\")\n",
    "                \n",
    "                # Obtém o ID de usuário do evento, se presente\n",
    "                security = evento_estrutura_dict__tag_System.get(\"Security\")\n",
    "                UserID = None\n",
    "                if(security is not None):\n",
    "                    UserID = evento_estrutura_dict__tag_System.get(\"Security\").get(\"@UserID\")\n",
    "                \n",
    "                # Obtém a tag de dados do evento\n",
    "                dataTag = evento_estrutura_xml.getchildren()[1].tag\n",
    "                \n",
    "                # Processa os dados do evento\n",
    "                if (dataTag == 'ProcessingErrorData'):\n",
    "                    Data_Fields = list(evento_estrutura_dict.get(\"Event\").get(\"ProcessingErrorData\").keys())\n",
    "                    Data = list(evento_estrutura_dict.get(\"Event\").get(\"ProcessingErrorData\").values())\n",
    "                    UserData_Flag = 0\n",
    "                    Data_Event_Name = None\n",
    "                if (dataTag == 'EventData'):\n",
    "                    event_data = evento_estrutura_dict.get(\"Event\")\n",
    "                    user_data = event_data.get(\"UserData\")\n",
    "                    dataTag_keys = list(event_data.get(dataTag).keys())\n",
    "                    primeira_dataTag_key = dataTag_keys[0]\n",
    "                    if(user_data is None):\n",
    "                        Data_Fields = None\n",
    "                        Data = None\n",
    "                    else:\n",
    "                        user_data_with_first_key = user_data.get(primeira_dataTag_key)\n",
    "                        Data_Fields = list(user_data_with_first_key.keys())\n",
    "                        Data = list(evento_estrutura_dict.get(\"Event\").get(\"UserData\").get(list(evento_estrutura_dict.get(\"Event\").get(dataTag).keys())[0]).values())\n",
    "                        UserData_Flag = 1\n",
    "                        Data_Event_Name = None\n",
    "                else:\n",
    "                    UserData_Flag = 0\n",
    "                    Data_Event_Name = None\n",
    "                    evento_estrutura_dictEventData = evento_estrutura_dict.get(\"Event\").get(\"EventData\")\n",
    "                    if(evento_estrutura_dictEventData is None):\n",
    "                        Data_Fields = None\n",
    "                        Data = None\n",
    "                    else:\n",
    "                        Data_Fields = (parseXMLtoString(evento_estrutura_xml, \".//Data/@Name\"))\n",
    "                        Data = (parseXMLtoString(evento_estrutura_xml, \".//Data/text()\"))\n",
    "                        if(len(evento_estrutura_dictEventData.keys()) > 1):\n",
    "                            if(list(evento_estrutura_dictEventData.keys())[1] == \"Binary\"):\n",
    "                                Data_Fields = [\"Data\", \"Binary\"]\n",
    "                                Data.append(evento_estrutura_dictEventData.get(\"Binary\"))\n",
    "                            else:\n",
    "                                Data_Event_Name = evento_estrutura_dictEventData.get(\"@Name\")\n",
    "                \n",
    "                # Cria um objeto Event e o adiciona à lista de eventos\n",
    "                evento_unico = Event(\n",
    "                    Filename,\n",
    "                    ID,\n",
    "                    SourceName,\n",
    "                    Provider_Guid,\n",
    "                    EventID, \n",
    "                    EventID_Qualifiers, \n",
    "                    Version, \n",
    "                    Level,\n",
    "                    Task, \n",
    "                    Opcode, \n",
    "                    Keywords, \n",
    "                    TimeCreated, \n",
    "                    EventRecordID, \n",
    "                    Correlation_ActivityID,\n",
    "                    Correlation_RelatedActivityID, \n",
    "                    ProcessID, ThreadID, \n",
    "                    Channel, \n",
    "                    Computer, \n",
    "                    UserID,\n",
    "                    Data_Event_Name, \n",
    "                    Data_Fields, \n",
    "                    Data, \n",
    "                    UserData_Flag\n",
    "                )\n",
    "                # Adiciona o evento à lista\n",
    "                listaDe_eventos_dos_arquivos_evtx.append(evento_unico.__dict__)\n"
   ]
  },
  {
   "cell_type": "code",
   "execution_count": null,
   "metadata": {},
   "outputs": [
    {
     "data": {
      "text/plain": [
       "561"
      ]
     },
     "execution_count": 19,
     "metadata": {},
     "output_type": "execute_result"
    }
   ],
   "source": [
    "len(listaDe_eventos_dos_arquivos_evtx) # imprime o tamanho da lista de eventos dos arquivos evtx"
   ]
  },
  {
   "cell_type": "code",
   "execution_count": null,
   "metadata": {},
   "outputs": [
    {
     "data": {
      "text/html": [
       "<div>\n",
       "<style scoped>\n",
       "    .dataframe tbody tr th:only-of-type {\n",
       "        vertical-align: middle;\n",
       "    }\n",
       "\n",
       "    .dataframe tbody tr th {\n",
       "        vertical-align: top;\n",
       "    }\n",
       "\n",
       "    .dataframe thead th {\n",
       "        text-align: right;\n",
       "    }\n",
       "</style>\n",
       "<table border=\"1\" class=\"dataframe\">\n",
       "  <thead>\n",
       "    <tr style=\"text-align: right;\">\n",
       "      <th></th>\n",
       "      <th>Filename</th>\n",
       "      <th>ID</th>\n",
       "      <th>SourceName</th>\n",
       "      <th>Provider_Guid</th>\n",
       "      <th>EventID</th>\n",
       "      <th>EventID_Qualifiers</th>\n",
       "      <th>Version</th>\n",
       "      <th>Level</th>\n",
       "      <th>Task</th>\n",
       "      <th>Opcode</th>\n",
       "      <th>...</th>\n",
       "      <th>Correlation_RelatedActivityID</th>\n",
       "      <th>ProcessID</th>\n",
       "      <th>ThreadID</th>\n",
       "      <th>Channel</th>\n",
       "      <th>Computer</th>\n",
       "      <th>UserID</th>\n",
       "      <th>Data_Event_Name</th>\n",
       "      <th>Data_Fields</th>\n",
       "      <th>Data</th>\n",
       "      <th>UserData_Flag</th>\n",
       "    </tr>\n",
       "  </thead>\n",
       "  <tbody>\n",
       "    <tr>\n",
       "      <th>0</th>\n",
       "      <td>Application.evtx</td>\n",
       "      <td>28</td>\n",
       "      <td>Microsoft-Windows-LoadPerf</td>\n",
       "      <td>122EE297-BB47-41AE-B265-1CA8D1886D40</td>\n",
       "      <td>3012</td>\n",
       "      <td>None</td>\n",
       "      <td>0</td>\n",
       "      <td>2</td>\n",
       "      <td>0</td>\n",
       "      <td>0</td>\n",
       "      <td>...</td>\n",
       "      <td>None</td>\n",
       "      <td>12320</td>\n",
       "      <td>6132</td>\n",
       "      <td>Application</td>\n",
       "      <td>Nathan</td>\n",
       "      <td>S-1-5-18</td>\n",
       "      <td>None</td>\n",
       "      <td>None</td>\n",
       "      <td>None</td>\n",
       "      <td>0</td>\n",
       "    </tr>\n",
       "    <tr>\n",
       "      <th>1</th>\n",
       "      <td>Application.evtx</td>\n",
       "      <td>29</td>\n",
       "      <td>Microsoft-Windows-LoadPerf</td>\n",
       "      <td>122EE297-BB47-41AE-B265-1CA8D1886D40</td>\n",
       "      <td>3012</td>\n",
       "      <td>None</td>\n",
       "      <td>0</td>\n",
       "      <td>2</td>\n",
       "      <td>0</td>\n",
       "      <td>0</td>\n",
       "      <td>...</td>\n",
       "      <td>None</td>\n",
       "      <td>12320</td>\n",
       "      <td>6132</td>\n",
       "      <td>Application</td>\n",
       "      <td>Nathan</td>\n",
       "      <td>S-1-5-18</td>\n",
       "      <td>None</td>\n",
       "      <td>None</td>\n",
       "      <td>None</td>\n",
       "      <td>0</td>\n",
       "    </tr>\n",
       "    <tr>\n",
       "      <th>2</th>\n",
       "      <td>Application.evtx</td>\n",
       "      <td>30</td>\n",
       "      <td>Microsoft-Windows-LoadPerf</td>\n",
       "      <td>122EE297-BB47-41AE-B265-1CA8D1886D40</td>\n",
       "      <td>3011</td>\n",
       "      <td>None</td>\n",
       "      <td>0</td>\n",
       "      <td>2</td>\n",
       "      <td>0</td>\n",
       "      <td>0</td>\n",
       "      <td>...</td>\n",
       "      <td>None</td>\n",
       "      <td>12320</td>\n",
       "      <td>6132</td>\n",
       "      <td>Application</td>\n",
       "      <td>Nathan</td>\n",
       "      <td>S-1-5-18</td>\n",
       "      <td>None</td>\n",
       "      <td>None</td>\n",
       "      <td>None</td>\n",
       "      <td>0</td>\n",
       "    </tr>\n",
       "    <tr>\n",
       "      <th>3</th>\n",
       "      <td>Application.evtx</td>\n",
       "      <td>173</td>\n",
       "      <td>Microsoft-Windows-LoadPerf</td>\n",
       "      <td>122EE297-BB47-41AE-B265-1CA8D1886D40</td>\n",
       "      <td>3012</td>\n",
       "      <td>None</td>\n",
       "      <td>0</td>\n",
       "      <td>2</td>\n",
       "      <td>0</td>\n",
       "      <td>0</td>\n",
       "      <td>...</td>\n",
       "      <td>None</td>\n",
       "      <td>12248</td>\n",
       "      <td>10252</td>\n",
       "      <td>Application</td>\n",
       "      <td>Nathan</td>\n",
       "      <td>S-1-5-18</td>\n",
       "      <td>None</td>\n",
       "      <td>None</td>\n",
       "      <td>None</td>\n",
       "      <td>0</td>\n",
       "    </tr>\n",
       "    <tr>\n",
       "      <th>4</th>\n",
       "      <td>Application.evtx</td>\n",
       "      <td>174</td>\n",
       "      <td>Microsoft-Windows-LoadPerf</td>\n",
       "      <td>122EE297-BB47-41AE-B265-1CA8D1886D40</td>\n",
       "      <td>3012</td>\n",
       "      <td>None</td>\n",
       "      <td>0</td>\n",
       "      <td>2</td>\n",
       "      <td>0</td>\n",
       "      <td>0</td>\n",
       "      <td>...</td>\n",
       "      <td>None</td>\n",
       "      <td>12248</td>\n",
       "      <td>10252</td>\n",
       "      <td>Application</td>\n",
       "      <td>Nathan</td>\n",
       "      <td>S-1-5-18</td>\n",
       "      <td>None</td>\n",
       "      <td>None</td>\n",
       "      <td>None</td>\n",
       "      <td>0</td>\n",
       "    </tr>\n",
       "  </tbody>\n",
       "</table>\n",
       "<p>5 rows × 24 columns</p>\n",
       "</div>"
      ],
      "text/plain": [
       "           Filename   ID                  SourceName  \\\n",
       "0  Application.evtx   28  Microsoft-Windows-LoadPerf   \n",
       "1  Application.evtx   29  Microsoft-Windows-LoadPerf   \n",
       "2  Application.evtx   30  Microsoft-Windows-LoadPerf   \n",
       "3  Application.evtx  173  Microsoft-Windows-LoadPerf   \n",
       "4  Application.evtx  174  Microsoft-Windows-LoadPerf   \n",
       "\n",
       "                          Provider_Guid EventID EventID_Qualifiers Version  \\\n",
       "0  122EE297-BB47-41AE-B265-1CA8D1886D40    3012               None       0   \n",
       "1  122EE297-BB47-41AE-B265-1CA8D1886D40    3012               None       0   \n",
       "2  122EE297-BB47-41AE-B265-1CA8D1886D40    3011               None       0   \n",
       "3  122EE297-BB47-41AE-B265-1CA8D1886D40    3012               None       0   \n",
       "4  122EE297-BB47-41AE-B265-1CA8D1886D40    3012               None       0   \n",
       "\n",
       "  Level Task Opcode  ... Correlation_RelatedActivityID ProcessID ThreadID  \\\n",
       "0     2    0      0  ...                          None     12320     6132   \n",
       "1     2    0      0  ...                          None     12320     6132   \n",
       "2     2    0      0  ...                          None     12320     6132   \n",
       "3     2    0      0  ...                          None     12248    10252   \n",
       "4     2    0      0  ...                          None     12248    10252   \n",
       "\n",
       "       Channel Computer    UserID Data_Event_Name Data_Fields  Data  \\\n",
       "0  Application   Nathan  S-1-5-18            None        None  None   \n",
       "1  Application   Nathan  S-1-5-18            None        None  None   \n",
       "2  Application   Nathan  S-1-5-18            None        None  None   \n",
       "3  Application   Nathan  S-1-5-18            None        None  None   \n",
       "4  Application   Nathan  S-1-5-18            None        None  None   \n",
       "\n",
       "  UserData_Flag  \n",
       "0             0  \n",
       "1             0  \n",
       "2             0  \n",
       "3             0  \n",
       "4             0  \n",
       "\n",
       "[5 rows x 24 columns]"
      ]
     },
     "execution_count": 20,
     "metadata": {},
     "output_type": "execute_result"
    }
   ],
   "source": [
    "df_eventos = pd.DataFrame.from_records(listaDe_eventos_dos_arquivos_evtx) # cria um dataframe a partir da lista de eventos dos arquivos evtx\n",
    "df_eventos.head() # imprime as primeiras linhas do dataframe"
   ]
  },
  {
   "cell_type": "code",
   "execution_count": null,
   "metadata": {},
   "outputs": [
    {
     "data": {
      "text/html": [
       "<div>\n",
       "<style scoped>\n",
       "    .dataframe tbody tr th:only-of-type {\n",
       "        vertical-align: middle;\n",
       "    }\n",
       "\n",
       "    .dataframe tbody tr th {\n",
       "        vertical-align: top;\n",
       "    }\n",
       "\n",
       "    .dataframe thead th {\n",
       "        text-align: right;\n",
       "    }\n",
       "</style>\n",
       "<table border=\"1\" class=\"dataframe\">\n",
       "  <thead>\n",
       "    <tr style=\"text-align: right;\">\n",
       "      <th></th>\n",
       "      <th>Filename</th>\n",
       "      <th>ID</th>\n",
       "      <th>SourceName</th>\n",
       "      <th>Provider_Guid</th>\n",
       "      <th>EventID</th>\n",
       "      <th>EventID_Qualifiers</th>\n",
       "      <th>Version</th>\n",
       "      <th>Level</th>\n",
       "      <th>Task</th>\n",
       "      <th>Opcode</th>\n",
       "      <th>...</th>\n",
       "      <th>Correlation_RelatedActivityID</th>\n",
       "      <th>ProcessID</th>\n",
       "      <th>ThreadID</th>\n",
       "      <th>Channel</th>\n",
       "      <th>Computer</th>\n",
       "      <th>UserID</th>\n",
       "      <th>Data_Event_Name</th>\n",
       "      <th>Data_Fields</th>\n",
       "      <th>Data</th>\n",
       "      <th>UserData_Flag</th>\n",
       "    </tr>\n",
       "  </thead>\n",
       "  <tbody>\n",
       "    <tr>\n",
       "      <th>556</th>\n",
       "      <td>Application.evtx</td>\n",
       "      <td>1485</td>\n",
       "      <td>Microsoft-Windows-LoadPerf</td>\n",
       "      <td>122EE297-BB47-41AE-B265-1CA8D1886D40</td>\n",
       "      <td>3012</td>\n",
       "      <td>None</td>\n",
       "      <td>0</td>\n",
       "      <td>2</td>\n",
       "      <td>0</td>\n",
       "      <td>0</td>\n",
       "      <td>...</td>\n",
       "      <td>None</td>\n",
       "      <td>4884</td>\n",
       "      <td>5404</td>\n",
       "      <td>Application</td>\n",
       "      <td>Nathan</td>\n",
       "      <td>S-1-5-18</td>\n",
       "      <td>None</td>\n",
       "      <td>None</td>\n",
       "      <td>None</td>\n",
       "      <td>0</td>\n",
       "    </tr>\n",
       "    <tr>\n",
       "      <th>557</th>\n",
       "      <td>Application.evtx</td>\n",
       "      <td>1486</td>\n",
       "      <td>Microsoft-Windows-LoadPerf</td>\n",
       "      <td>122EE297-BB47-41AE-B265-1CA8D1886D40</td>\n",
       "      <td>3011</td>\n",
       "      <td>None</td>\n",
       "      <td>0</td>\n",
       "      <td>2</td>\n",
       "      <td>0</td>\n",
       "      <td>0</td>\n",
       "      <td>...</td>\n",
       "      <td>None</td>\n",
       "      <td>4884</td>\n",
       "      <td>5404</td>\n",
       "      <td>Application</td>\n",
       "      <td>Nathan</td>\n",
       "      <td>S-1-5-18</td>\n",
       "      <td>None</td>\n",
       "      <td>None</td>\n",
       "      <td>None</td>\n",
       "      <td>0</td>\n",
       "    </tr>\n",
       "    <tr>\n",
       "      <th>558</th>\n",
       "      <td>Application.evtx</td>\n",
       "      <td>1492</td>\n",
       "      <td>Microsoft-Windows-LoadPerf</td>\n",
       "      <td>122EE297-BB47-41AE-B265-1CA8D1886D40</td>\n",
       "      <td>3012</td>\n",
       "      <td>None</td>\n",
       "      <td>0</td>\n",
       "      <td>2</td>\n",
       "      <td>0</td>\n",
       "      <td>0</td>\n",
       "      <td>...</td>\n",
       "      <td>None</td>\n",
       "      <td>10372</td>\n",
       "      <td>10380</td>\n",
       "      <td>Application</td>\n",
       "      <td>Nathan</td>\n",
       "      <td>S-1-5-18</td>\n",
       "      <td>None</td>\n",
       "      <td>None</td>\n",
       "      <td>None</td>\n",
       "      <td>0</td>\n",
       "    </tr>\n",
       "    <tr>\n",
       "      <th>559</th>\n",
       "      <td>Application.evtx</td>\n",
       "      <td>1493</td>\n",
       "      <td>Microsoft-Windows-LoadPerf</td>\n",
       "      <td>122EE297-BB47-41AE-B265-1CA8D1886D40</td>\n",
       "      <td>3012</td>\n",
       "      <td>None</td>\n",
       "      <td>0</td>\n",
       "      <td>2</td>\n",
       "      <td>0</td>\n",
       "      <td>0</td>\n",
       "      <td>...</td>\n",
       "      <td>None</td>\n",
       "      <td>10372</td>\n",
       "      <td>10380</td>\n",
       "      <td>Application</td>\n",
       "      <td>Nathan</td>\n",
       "      <td>S-1-5-18</td>\n",
       "      <td>None</td>\n",
       "      <td>None</td>\n",
       "      <td>None</td>\n",
       "      <td>0</td>\n",
       "    </tr>\n",
       "    <tr>\n",
       "      <th>560</th>\n",
       "      <td>Application.evtx</td>\n",
       "      <td>1494</td>\n",
       "      <td>Microsoft-Windows-LoadPerf</td>\n",
       "      <td>122EE297-BB47-41AE-B265-1CA8D1886D40</td>\n",
       "      <td>3011</td>\n",
       "      <td>None</td>\n",
       "      <td>0</td>\n",
       "      <td>2</td>\n",
       "      <td>0</td>\n",
       "      <td>0</td>\n",
       "      <td>...</td>\n",
       "      <td>None</td>\n",
       "      <td>10372</td>\n",
       "      <td>10380</td>\n",
       "      <td>Application</td>\n",
       "      <td>Nathan</td>\n",
       "      <td>S-1-5-18</td>\n",
       "      <td>None</td>\n",
       "      <td>None</td>\n",
       "      <td>None</td>\n",
       "      <td>0</td>\n",
       "    </tr>\n",
       "  </tbody>\n",
       "</table>\n",
       "<p>5 rows × 24 columns</p>\n",
       "</div>"
      ],
      "text/plain": [
       "             Filename    ID                  SourceName  \\\n",
       "556  Application.evtx  1485  Microsoft-Windows-LoadPerf   \n",
       "557  Application.evtx  1486  Microsoft-Windows-LoadPerf   \n",
       "558  Application.evtx  1492  Microsoft-Windows-LoadPerf   \n",
       "559  Application.evtx  1493  Microsoft-Windows-LoadPerf   \n",
       "560  Application.evtx  1494  Microsoft-Windows-LoadPerf   \n",
       "\n",
       "                            Provider_Guid EventID EventID_Qualifiers Version  \\\n",
       "556  122EE297-BB47-41AE-B265-1CA8D1886D40    3012               None       0   \n",
       "557  122EE297-BB47-41AE-B265-1CA8D1886D40    3011               None       0   \n",
       "558  122EE297-BB47-41AE-B265-1CA8D1886D40    3012               None       0   \n",
       "559  122EE297-BB47-41AE-B265-1CA8D1886D40    3012               None       0   \n",
       "560  122EE297-BB47-41AE-B265-1CA8D1886D40    3011               None       0   \n",
       "\n",
       "    Level Task Opcode  ... Correlation_RelatedActivityID ProcessID ThreadID  \\\n",
       "556     2    0      0  ...                          None      4884     5404   \n",
       "557     2    0      0  ...                          None      4884     5404   \n",
       "558     2    0      0  ...                          None     10372    10380   \n",
       "559     2    0      0  ...                          None     10372    10380   \n",
       "560     2    0      0  ...                          None     10372    10380   \n",
       "\n",
       "         Channel Computer    UserID Data_Event_Name Data_Fields  Data  \\\n",
       "556  Application   Nathan  S-1-5-18            None        None  None   \n",
       "557  Application   Nathan  S-1-5-18            None        None  None   \n",
       "558  Application   Nathan  S-1-5-18            None        None  None   \n",
       "559  Application   Nathan  S-1-5-18            None        None  None   \n",
       "560  Application   Nathan  S-1-5-18            None        None  None   \n",
       "\n",
       "    UserData_Flag  \n",
       "556             0  \n",
       "557             0  \n",
       "558             0  \n",
       "559             0  \n",
       "560             0  \n",
       "\n",
       "[5 rows x 24 columns]"
      ]
     },
     "execution_count": 21,
     "metadata": {},
     "output_type": "execute_result"
    }
   ],
   "source": [
    "df_eventos.tail() # imprime as últimas linhas do dataframe"
   ]
  },
  {
   "cell_type": "code",
   "execution_count": null,
   "metadata": {},
   "outputs": [],
   "source": []
  }
 ],
 "metadata": {
  "kernelspec": {
   "display_name": "venv",
   "language": "python",
   "name": "python3"
  },
  "language_info": {
   "codemirror_mode": {
    "name": "ipython",
    "version": 3
   },
   "file_extension": ".py",
   "mimetype": "text/x-python",
   "name": "python",
   "nbconvert_exporter": "python",
   "pygments_lexer": "ipython3",
   "version": "3.11.9"
  }
 },
 "nbformat": 4,
 "nbformat_minor": 2
}
