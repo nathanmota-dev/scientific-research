{
 "cells": [
  {
   "cell_type": "markdown",
   "metadata": {},
   "source": [
    "Terminal -> New Terminal\n",
    "\n",
    "python3 -m venv venv\n",
    "\n",
    "source venv/bin/activate\n",
    "\n",
    "Select Kernel -> venv\n",
    "\n",
    "pip install evtx\n",
    "\n",
    "pip freeze > requirements.txt\n",
    "\n",
    "pip install -r requirements.txt (quando for instalar)"
   ]
  },
  {
   "cell_type": "code",
   "execution_count": 16,
   "metadata": {},
   "outputs": [],
   "source": [
    "import os"
   ]
  },
  {
   "cell_type": "code",
   "execution_count": 17,
   "metadata": {},
   "outputs": [
    {
     "data": {
      "text/plain": [
       "'c:\\\\Users\\\\natha\\\\Desktop\\\\git\\\\scientific-research'"
      ]
     },
     "execution_count": 17,
     "metadata": {},
     "output_type": "execute_result"
    }
   ],
   "source": [
    "#cwd (current working directory)\n",
    "caminho_para_diretorio_atual = os.getcwd()\n",
    "caminho_para_diretorio_atual"
   ]
  },
  {
   "cell_type": "code",
   "execution_count": 18,
   "metadata": {},
   "outputs": [
    {
     "data": {
      "text/plain": [
       "'C:\\\\Users\\\\natha\\\\Desktop\\\\ic\\\\logs'"
      ]
     },
     "execution_count": 18,
     "metadata": {},
     "output_type": "execute_result"
    }
   ],
   "source": [
    "caminho_para_arquivos_evtx = \"C:/Users/natha/Desktop/ic/logs\"\n",
    "#chdir (change directory)\n",
    "os.chdir(caminho_para_arquivos_evtx)\n",
    "os.getcwd()"
   ]
  },
  {
   "cell_type": "code",
   "execution_count": 19,
   "metadata": {},
   "outputs": [
    {
     "name": "stdout",
     "output_type": "stream",
     "text": [
      "Application.evtx\n",
      "System.evtx\n"
     ]
    }
   ],
   "source": [
    "import glob\n",
    "for nome_do_arquivo_evtx in glob.glob('*.evtx'):\n",
    "    print(nome_do_arquivo_evtx)"
   ]
  },
  {
   "cell_type": "code",
   "execution_count": 20,
   "metadata": {},
   "outputs": [
    {
     "name": "stdout",
     "output_type": "stream",
     "text": [
      "C:\\Users\\natha\\AppData\\Local\\Microsoft\\WindowsApps\\PythonSoftwareFoundation.Python.3.11_qbz5n2kfra8p0\\python.exe\n"
     ]
    }
   ],
   "source": [
    "import sys\n",
    "print(sys.executable)"
   ]
  },
  {
   "cell_type": "code",
   "execution_count": 21,
   "metadata": {},
   "outputs": [],
   "source": [
    "import sys\n",
    "sys.path.append('C:\\\\Users\\\\natha\\\\Desktop\\\\git\\\\scientific-research\\\\venv\\\\Lib\\\\site-packages')\n"
   ]
  },
  {
   "cell_type": "code",
   "execution_count": 22,
   "metadata": {},
   "outputs": [
    {
     "name": "stdout",
     "output_type": "stream",
     "text": [
      "{'event_record_id': 127342, 'timestamp': '2023-09-02 18:04:26.708071 UTC', 'data': '<?xml version=\"1.0\" encoding=\"utf-8\"?>\\n<Event xmlns=\"http://schemas.microsoft.com/win/2004/08/events/event\">\\n  <System>\\n    <Provider Name=\"Microsoft-Windows-Security-SPP\" Guid=\"{E23B33B0-C8C9-472C-A5F9-F2BDFEA0F156}\" EventSourceName=\"Software Protection Platform Service\">\\n    </Provider>\\n    <EventID Qualifiers=\"49152\">16394</EventID>\\n    <Version>0</Version>\\n    <Level>4</Level>\\n    <Task>0</Task>\\n    <Opcode>0</Opcode>\\n    <Keywords>0x80000000000000</Keywords>\\n    <TimeCreated SystemTime=\"2023-09-02T18:04:26.708071Z\">\\n    </TimeCreated>\\n    <EventRecordID>127342</EventRecordID>\\n    <Correlation>\\n    </Correlation>\\n    <Execution ProcessID=\"0\" ThreadID=\"0\">\\n    </Execution>\\n    <Channel>Application</Channel>\\n    <Computer>Nathan</Computer>\\n    <Security>\\n    </Security>\\n  </System>\\n  <EventData>\\n    <Data></Data>\\n    <Binary></Binary>\\n  </EventData>\\n</Event>'}\n",
      "{'event_record_id': 251109, 'timestamp': '2023-06-28 03:25:29.947705 UTC', 'data': '<?xml version=\"1.0\" encoding=\"utf-8\"?>\\n<Event xmlns=\"http://schemas.microsoft.com/win/2004/08/events/event\">\\n  <System>\\n    <Provider Name=\"e1i65x64\">\\n    </Provider>\\n    <EventID Qualifiers=\"24580\">32</EventID>\\n    <Version>0</Version>\\n    <Level>4</Level>\\n    <Task>0</Task>\\n    <Opcode>0</Opcode>\\n    <Keywords>0x80000000000000</Keywords>\\n    <TimeCreated SystemTime=\"2023-06-28T03:25:29.947705Z\">\\n    </TimeCreated>\\n    <EventRecordID>251109</EventRecordID>\\n    <Correlation>\\n    </Correlation>\\n    <Execution ProcessID=\"4\" ThreadID=\"264\">\\n    </Execution>\\n    <Channel>System</Channel>\\n    <Computer>Nathan</Computer>\\n    <Security>\\n    </Security>\\n  </System>\\n  <EventData>\\n    <Data>,Intel(R) 82579V Gigabit Network Connection</Data>\\n    <Binary>0000040002003000000000002000046000000000000000000000000000000000000000000000000020000460</Binary>\\n  </EventData>\\n</Event>'}\n"
     ]
    }
   ],
   "source": [
    "import glob\n",
    "from evtx import PyEvtxParser\n",
    "\n",
    "for nome_do_arquivo_evtx in glob.glob('*.evtx'):\n",
    "    caminho_do_arquivo_evtx = caminho_para_arquivos_evtx + \"\\\\\" + nome_do_arquivo_evtx\n",
    "    conjunto_de_registros_do_evtx = PyEvtxParser(caminho_do_arquivo_evtx)\n",
    "    \n",
    "    for registro in conjunto_de_registros_do_evtx.records():\n",
    "        print(registro)\n",
    "        break"
   ]
  },
  {
   "cell_type": "code",
   "execution_count": 23,
   "metadata": {},
   "outputs": [
    {
     "data": {
      "text/plain": [
       "'<?xml version=\"1.0\" encoding=\"utf-8\"?>\\n<Event xmlns=\"http://schemas.microsoft.com/win/2004/08/events/event\">\\n  <System>\\n    <Provider Name=\"e1i65x64\">\\n    </Provider>\\n    <EventID Qualifiers=\"24580\">32</EventID>\\n    <Version>0</Version>\\n    <Level>4</Level>\\n    <Task>0</Task>\\n    <Opcode>0</Opcode>\\n    <Keywords>0x80000000000000</Keywords>\\n    <TimeCreated SystemTime=\"2023-06-28T03:25:29.947705Z\">\\n    </TimeCreated>\\n    <EventRecordID>251109</EventRecordID>\\n    <Correlation>\\n    </Correlation>\\n    <Execution ProcessID=\"4\" ThreadID=\"264\">\\n    </Execution>\\n    <Channel>System</Channel>\\n    <Computer>Nathan</Computer>\\n    <Security>\\n    </Security>\\n  </System>\\n  <EventData>\\n    <Data>,Intel(R) 82579V Gigabit Network Connection</Data>\\n    <Binary>0000040002003000000000002000046000000000000000000000000000000000000000000000000020000460</Binary>\\n  </EventData>\\n</Event>'"
      ]
     },
     "execution_count": 23,
     "metadata": {},
     "output_type": "execute_result"
    }
   ],
   "source": [
    "registro['data']"
   ]
  },
  {
   "cell_type": "markdown",
   "metadata": {},
   "source": [
    "O código busca uma string que começa com <Level>, seguida de qualquer conteúdo (capturado por (.*?)), e termina com </Level> dentro da string registro['data']."
   ]
  },
  {
   "cell_type": "code",
   "execution_count": 24,
   "metadata": {},
   "outputs": [
    {
     "data": {
      "text/plain": [
       "<re.Match object; span=(241, 257), match='<Level>4</Level>'>"
      ]
     },
     "execution_count": 24,
     "metadata": {},
     "output_type": "execute_result"
    }
   ],
   "source": [
    "import re\n",
    "re.search(r'<Level>(.*?)</Level>', registro['data'])"
   ]
  },
  {
   "cell_type": "markdown",
   "metadata": {},
   "source": [
    "Esta parte do código acessa o primeiro grupo de captura ((.*?)) do objeto de correspondência retornado por re.search(). Em expressões regulares, os grupos de captura são definidos colocando partes do padrão entre parênteses. Como (.*?) é o primeiro (e único) grupo de captura no padrão, .group(1) recupera o conteúdo correspondido por este grupo."
   ]
  },
  {
   "cell_type": "code",
   "execution_count": 25,
   "metadata": {},
   "outputs": [
    {
     "data": {
      "text/plain": [
       "'4'"
      ]
     },
     "execution_count": 25,
     "metadata": {},
     "output_type": "execute_result"
    }
   ],
   "source": [
    "re.search(r'<Level>(.*?)</Level>', registro['data']).group(1)"
   ]
  },
  {
   "cell_type": "code",
   "execution_count": 26,
   "metadata": {},
   "outputs": [
    {
     "data": {
      "text/plain": [
       "'4'"
      ]
     },
     "execution_count": 26,
     "metadata": {},
     "output_type": "execute_result"
    }
   ],
   "source": [
    "event_level = re.search(r'<Level>(.*?)</Level>', registro['data']).group(1)\n",
    "event_level"
   ]
  },
  {
   "cell_type": "markdown",
   "metadata": {},
   "source": [
    "# Event_level 1 e 2 são falhas"
   ]
  },
  {
   "cell_type": "code",
   "execution_count": 27,
   "metadata": {},
   "outputs": [],
   "source": [
    "# if(((\"Application\" in nome_do_arquivo_evtx) & (event_level == \"2\")) | ((\"System\" in nome_do_arquivo_evtx) & ((event_level == \"2\") | (event_level == \"1\")))):"
   ]
  },
  {
   "cell_type": "markdown",
   "metadata": {},
   "source": [
    "Como refatorar o código"
   ]
  },
  {
   "cell_type": "code",
   "execution_count": 28,
   "metadata": {},
   "outputs": [],
   "source": [
    "# conditions = [\n",
    "#     (\"Application\" in nome_do_arquivo_evtx and event_level == \"2\"),\n",
    "#     (\"System\" in nome_do_arquivo_evtx and event_level in (\"1\", \"2\"))\n",
    "# ]\n",
    "\n",
    "# if any(conditions):\n",
    "#     # Your code here\n"
   ]
  },
  {
   "cell_type": "markdown",
   "metadata": {},
   "source": [
    "### Eventos que não saõ de falhas, mas possuem Event_level 1 e 2"
   ]
  },
  {
   "cell_type": "code",
   "execution_count": 29,
   "metadata": {},
   "outputs": [
    {
     "data": {
      "text/html": [
       "<div>\n",
       "<style scoped>\n",
       "    .dataframe tbody tr th:only-of-type {\n",
       "        vertical-align: middle;\n",
       "    }\n",
       "\n",
       "    .dataframe tbody tr th {\n",
       "        vertical-align: top;\n",
       "    }\n",
       "\n",
       "    .dataframe thead th {\n",
       "        text-align: right;\n",
       "    }\n",
       "</style>\n",
       "<table border=\"1\" class=\"dataframe\">\n",
       "  <thead>\n",
       "    <tr style=\"text-align: right;\">\n",
       "      <th></th>\n",
       "      <th>SourceName</th>\n",
       "      <th>EventID</th>\n",
       "    </tr>\n",
       "  </thead>\n",
       "  <tbody>\n",
       "    <tr>\n",
       "      <th>0</th>\n",
       "      <td>trend micro officescan</td>\n",
       "      <td>900</td>\n",
       "    </tr>\n",
       "    <tr>\n",
       "      <th>1</th>\n",
       "      <td>eventlog</td>\n",
       "      <td>6008</td>\n",
       "    </tr>\n",
       "    <tr>\n",
       "      <th>2</th>\n",
       "      <td>tcpip</td>\n",
       "      <td>4199</td>\n",
       "    </tr>\n",
       "    <tr>\n",
       "      <th>3</th>\n",
       "      <td>server</td>\n",
       "      <td>2505</td>\n",
       "    </tr>\n",
       "    <tr>\n",
       "      <th>4</th>\n",
       "      <td>netbt</td>\n",
       "      <td>4321</td>\n",
       "    </tr>\n",
       "    <tr>\n",
       "      <th>5</th>\n",
       "      <td>netbt</td>\n",
       "      <td>4319</td>\n",
       "    </tr>\n",
       "    <tr>\n",
       "      <th>6</th>\n",
       "      <td>microsoft-windows-kernel-power</td>\n",
       "      <td>41</td>\n",
       "    </tr>\n",
       "  </tbody>\n",
       "</table>\n",
       "</div>"
      ],
      "text/plain": [
       "                       SourceName  EventID\n",
       "0          trend micro officescan      900\n",
       "1                        eventlog     6008\n",
       "2                           tcpip     4199\n",
       "3                          server     2505\n",
       "4                           netbt     4321\n",
       "5                           netbt     4319\n",
       "6  microsoft-windows-kernel-power       41"
      ]
     },
     "execution_count": 29,
     "metadata": {},
     "output_type": "execute_result"
    }
   ],
   "source": [
    "import pandas as pd\n",
    "\n",
    "os.chdir(caminho_para_diretorio_atual)\n",
    "df_non_failure_events = pd.read_csv(\"1_non_failure_events.csv\", encoding='utf-8-sig', engine='python')\n",
    "df_non_failure_events"
   ]
  },
  {
   "cell_type": "code",
   "execution_count": 30,
   "metadata": {},
   "outputs": [
    {
     "data": {
      "text/plain": [
       "defaultdict(list,\n",
       "            {'trend micro officescan': [900],\n",
       "             'eventlog': [6008],\n",
       "             'tcpip': [4199],\n",
       "             'server': [2505],\n",
       "             'netbt': [4321, 4319],\n",
       "             'microsoft-windows-kernel-power': [41]})"
      ]
     },
     "execution_count": 30,
     "metadata": {},
     "output_type": "execute_result"
    }
   ],
   "source": [
    "from collections import defaultdict\n",
    "\n",
    "\n",
    "dict_non_failure_events = defaultdict(list)\n",
    "for k, v in zip(df_non_failure_events.SourceName, df_non_failure_events.EventID):\n",
    "    dict_non_failure_events[k].append(v)\n",
    "dict_non_failure_events"
   ]
  },
  {
   "cell_type": "markdown",
   "metadata": {},
   "source": [
    "# Código Completo"
   ]
  },
  {
   "cell_type": "code",
   "execution_count": 31,
   "metadata": {},
   "outputs": [],
   "source": [
    "class Event(object):\n",
    "    def __init__(\n",
    "        self,\n",
    "        Filename,\n",
    "        ID,\n",
    "        SourceName,\n",
    "        Provider_Guid,\n",
    "        EventID,\n",
    "        EventID_Qualifiers,\n",
    "        Version,\n",
    "        Level,\n",
    "        Task,\n",
    "        Opcode,\n",
    "        Keywords,\n",
    "        TimeCreated,\n",
    "        EventRecordID,\n",
    "        Correlation_ActivityID,\n",
    "        Correlation_RelatedActivityID,\n",
    "        ProcessID,\n",
    "        ThreadID,\n",
    "        Channel,\n",
    "        Computer,\n",
    "        UserID,\n",
    "        Data_Event_Name,\n",
    "        Data_Fields,\n",
    "        Data,\n",
    "        UserData_Flag\n",
    "    ):\n",
    "        self.Filename = Filename\n",
    "        self.ID = ID\n",
    "        self.SourceName = SourceName\n",
    "        self.Provider_Guid = Provider_Guid\n",
    "        self.EventID = EventID\n",
    "        self.EventID_Qualifiers = EventID_Qualifiers\n",
    "        self.Version = Version\n",
    "        self.Level = Level\n",
    "        self.Task = Task\n",
    "        self.Opcode = Opcode\n",
    "        self.Keywords = Keywords\n",
    "        self.TimeCreated = TimeCreated\n",
    "        self.EventRecordID = EventRecordID\n",
    "        self.Correlation_ActivityID = Correlation_ActivityID\n",
    "        self.Correlation_RelatedActivityID = Correlation_RelatedActivityID\n",
    "        self.ProcessID = ProcessID\n",
    "        self.ThreadID = ThreadID\n",
    "        self.Channel = Channel\n",
    "        self.Computer = Computer\n",
    "        self.UserID = UserID\n",
    "        self.Data_Event_Name = Data_Event_Name\n",
    "        self.Data_Fields = Data_Fields\n",
    "        self.Data = Data\n",
    "        self.UserData_Flag = UserData_Flag"
   ]
  },
  {
   "cell_type": "code",
   "execution_count": 32,
   "metadata": {},
   "outputs": [],
   "source": [
    "def parseXMLtoString(root, string_search):\n",
    "    result = root.xpath(string_search)\n",
    "    if  (\"Data\" not in string_search) and (result):\n",
    "        result = str(result[0])\n",
    "\n",
    "    return result"
   ]
  },
  {
   "cell_type": "code",
   "execution_count": 33,
   "metadata": {},
   "outputs": [],
   "source": [
    "from lxml import etree # parsing de xml\n",
    "import xmltodict # parsing de xml\n",
    "\n",
    "os.chdir(caminho_para_arquivos_evtx)\n",
    "listaDe_eventos_dos_arquivos_evtx = []\n",
    "i = 0\n",
    "UserData_Flag = 0\n",
    "\n",
    "for nome_do_arquivo_evtx in glob.glob('*.evtx'):\n",
    "    # conjunto_de_registros_do_evtx = PyEvtxParser(caminho_para_arquivos_evtx+nome_do_arquivo_evtx) # comentar essa linha e descomentar as debaixo\n",
    "    caminho_do_arquivo_evtx = caminho_para_arquivos_evtx + \"\\\\\" + nome_do_arquivo_evtx\n",
    "    conjunto_de_registros_do_evtx = PyEvtxParser(caminho_do_arquivo_evtx)\n",
    "    for registro in conjunto_de_registros_do_evtx.records():\n",
    "        event_level = re.search(r'<Level>(.*?)</Level>', registro['data']).group(1) # pegar o level de cada registro no campo data\n",
    "        event_id = re.search(r'<EventID(?:[^>]*)>(\\d+)</EventID>', registro['data']).group(1) # o mesmo para o ID, group(1) pega o numero dentro dos <><>\n",
    "        #Event_level 1 e 2 são falhas\n",
    "\n",
    "\n",
    "\n",
    "        conditions = [\n",
    "            (\"Application\" in nome_do_arquivo_evtx and event_level == \"2\"),\n",
    "            (\"System\" in nome_do_arquivo_evtx and event_level in (\"1\", \"2\"))\n",
    "        ]\n",
    "        \n",
    "        if any(conditions):\n",
    "            \n",
    "            i = i + 1\n",
    "            Filename = nome_do_arquivo_evtx.split(\"_\")[0] #pega o que está a esquerda de \"_\"\n",
    "\n",
    "            #Em produção\n",
    "            # Filename = nome_do_arquivo_evtx\n",
    "\n",
    "\n",
    "            ID = i\n",
    "\n",
    "            #Removendo \"<?xml version=\"1.0\" encoding=\"utf-8\"?>\" do evento\n",
    "            line_filtered_1 = re.sub(r'<\\?xml([\\s\\S]*?)>\\n','',registro['data']) # argumento 1 é o padrão de busca, argumento 2 é o que substituir o padrão de busca, argumento 3 é a string\n",
    "            #Removendo \"xmlns=\"http://schemas.microsoft.com/win/2004/08/events/event\"\" do evento\n",
    "            line_filtered_2 = re.sub(r' xmlns=\\\"([\\s\\S]*?)\\\"','',line_filtered_1)\n",
    "\n",
    "            try:\n",
    "                evento_estrutura_xml = etree.XML(line_filtered_2) # transforma a string em um objeto XML\n",
    "\n",
    "                evento_estrutura_dict = xmltodict.parse(line_filtered_2)\n",
    "\n",
    "\n",
    "            except Exception as e:\n",
    "                \n",
    "                with open(r\"C:\\Users\\natha\\Desktop\\git\\scientific-research\\exception.txt\", 'a', encoding='utf-8') as f: # a é append, adiciona ao final do arquivo\n",
    "                    f.write(nome_do_arquivo_evtx+\"_\"+str(ID)+\"_\"+str(e))\n",
    "                    f.write(\"\\n\")\n",
    "                    continue\n",
    "            else:\n",
    "                evento_estrutura_dict__tag_System = evento_estrutura_dict.get(\"Event\").get(\"System\") # pega o dicionário do System\n",
    "\n",
    "                SourceName = evento_estrutura_dict__tag_System.get(\"Provider\").get(\"@Name\") # pega o valor do campo Provider Name (Service Control Manager)\n",
    "                if(SourceName is None):\n",
    "                    SourceName = evento_estrutura_dict__tag_System.get(\"Provider\").get(\"@EventSourceName\") # Se não tem o campo Provider Name, pega o valor do campo EventSourceName\n",
    "\n",
    "\n",
    "                Provider_Guid = evento_estrutura_dict__tag_System.get(\"Provider\").get(\"@Guid\") # pega o valor do campo Guid\n",
    "                \n",
    "                #\n",
    "                EventID = evento_estrutura_dict__tag_System.get(\"EventID\") # pega o valor do campo EventID\n",
    "                EventID_Qualifiers = None\n",
    "                if (type(EventID) != str): # se o EventID não for uma string\n",
    "                    EventID = evento_estrutura_dict__tag_System.get(\"EventID\").get(\"#text\") # pega o valor do campo EventID\n",
    "                    EventID_Qualifiers = evento_estrutura_dict__tag_System.get(\"EventID\").get(\"@Qualifiers\") # pega o valor do campo Qualifiers\n",
    "\n",
    "                # Removendo elementos que não são de falha.\n",
    "                if(SourceName.lower() in dict_non_failure_events.keys()):\n",
    "                    listaDe_EventIDs = dict_non_failure_events[SourceName.lower()] # PEDIR PRA EXPLICAR\n",
    "                    if(int(EventID) in listaDe_EventIDs):\n",
    "                        continue\n",
    "\n",
    "                Version = evento_estrutura_dict__tag_System.get(\"Version\")\n",
    "                Level = evento_estrutura_dict__tag_System.get(\"Level\")\n",
    "                Task = evento_estrutura_dict__tag_System.get(\"Task\")\n",
    "                Opcode = evento_estrutura_dict__tag_System.get(\"Opcode\")\n",
    "                Keywords = evento_estrutura_dict__tag_System.get(\"Keywords\")\n",
    "                TimeCreated = evento_estrutura_dict__tag_System.get(\"TimeCreated\").get(\"@SystemTime\")\n",
    "                EventRecordID = evento_estrutura_dict__tag_System.get(\"EventRecordID\")\n",
    "                \n",
    "                correlation = evento_estrutura_dict__tag_System.get(\"Correlation\")\n",
    "                Correlation_ActivityID = None\n",
    "                Correlation_RelatedActivityID = None\n",
    "                if(correlation is not None):\n",
    "                    Correlation_ActivityID = evento_estrutura_dict__tag_System.get(\"Correlation\").get(\"@ActivityID\")\n",
    "                    Correlation_RelatedActivityID = evento_estrutura_dict__tag_System.get(\"Correlation\").get(\"@RelatedActivityID\")\n",
    "\n",
    "                execution = evento_estrutura_dict__tag_System.get(\"Execution\")\n",
    "                ProcessID = None\n",
    "                ThreadID = None\n",
    "                if(execution is not None):\n",
    "                    ProcessID = evento_estrutura_dict__tag_System.get(\"Execution\").get(\"@ProcessID\")\n",
    "                    ThreadID = evento_estrutura_dict__tag_System.get(\"Execution\").get(\"@ThreadID\")\n",
    "\n",
    "                Channel = evento_estrutura_dict__tag_System.get(\"Channel\")\n",
    "                Computer = evento_estrutura_dict__tag_System.get(\"Computer\")\n",
    "\n",
    "                security = evento_estrutura_dict__tag_System.get(\"Security\")\n",
    "                UserID = None\n",
    "                if(security is not None):\n",
    "                    UserID = evento_estrutura_dict__tag_System.get(\"Security\").get(\"@UserID\")\n",
    "\n",
    "                dataTag = evento_estrutura_xml.getchildren()[1].tag\n",
    "\n",
    "                if (dataTag == 'ProcessingErrorData'):\n",
    "                        Data_Fields = list(evento_estrutura_dict.get(\"Event\").get(\"ProcessingErrorData\").keys()) # pega os campos do ProcessingErrorData\n",
    "                        Data = list(evento_estrutura_dict.get(\"Event\").get(\"ProcessingErrorData\").values()) # pega os valores do ProcessingErrorData\n",
    "                        UserData_Flag = 0 \n",
    "                        Data_Event_Name = None\n",
    "            if (dataTag == 'EventData'): \n",
    "                #Data_Fields = list(evento_estrutura_dict.get(\"Event\").get(\"UserData\").get(list(evento_estrutura_dict.get(\"Event\").get(dataTag).keys())[0]).keys()) # isso\n",
    "                event_data = evento_estrutura_dict.get(\"Event\")\n",
    "                user_data = event_data.get(\"UserData\")\n",
    "                dataTag_keys = list(event_data.get(dataTag).keys())\n",
    "                primeira_dataTag_key = dataTag_keys[0]\n",
    "\n",
    "                if(user_data is None):\n",
    "                    Data_Fields = None\n",
    "                    Data = None\n",
    "                else:\n",
    "                    user_data_with_first_key = user_data.get(primeira_dataTag_key)\n",
    "                    Data_Fields = list(user_data_with_first_key.keys())\n",
    "                    Data = list(evento_estrutura_dict.get(\"Event\").get(\"UserData\").get(list(evento_estrutura_dict.get(\"Event\").get(dataTag).keys())[0]).values())\n",
    "                    UserData_Flag = 1\n",
    "                    Data_Event_Name = None\n",
    "            else:\n",
    "                UserData_Flag = 0\n",
    "                Data_Event_Name = None\n",
    "                evento_estrutura_dictEventData = evento_estrutura_dict.get(\"Event\").get(\"EventData\")\n",
    "                if(evento_estrutura_dictEventData is None):\n",
    "                    Data_Fields = None\n",
    "                    Data = None\n",
    "                else:\n",
    "                    Data_Fields = (parseXMLtoString(evento_estrutura_xml, \".//Data/@Name\"))\n",
    "                    Data = (parseXMLtoString(evento_estrutura_xml, \".//Data/text()\"))\n",
    "\n",
    "                    if(len(evento_estrutura_dictEventData.keys()) > 1):\n",
    "                        if(list(evento_estrutura_dictEventData.keys())[1] == \"Binary\"):\n",
    "                            Data_Fields = [\"Data\", \"Binary\"]\n",
    "                            Data.append(evento_estrutura_dictEventData.get(\"Binary\"))\n",
    "                        else:\n",
    "                            Data_Event_Name = evento_estrutura_dictEventData.get(\"@Name\")            \n",
    "\n",
    "                evento_unico = Event(\n",
    "                                Filename,\n",
    "                                ID,\n",
    "                                SourceName,\n",
    "                                Provider_Guid,\n",
    "                                EventID,\n",
    "                                EventID_Qualifiers,\n",
    "                                Version,\n",
    "                                Level,\n",
    "                                Task,\n",
    "                                Opcode,\n",
    "                                Keywords,\n",
    "                                TimeCreated,\n",
    "                                EventRecordID,\n",
    "                                Correlation_ActivityID,\n",
    "                                Correlation_RelatedActivityID,\n",
    "                                ProcessID,\n",
    "                                ThreadID,\n",
    "                                Channel,\n",
    "                                Computer,\n",
    "                                UserID,\n",
    "                                Data_Event_Name,\n",
    "                                Data_Fields,\n",
    "                                Data,\n",
    "                                UserData_Flag\n",
    "                            )\n",
    "                # print(evento_unico)\n",
    "                listaDe_eventos_dos_arquivos_evtx.append(evento_unico.__dict__) #"
   ]
  },
  {
   "cell_type": "code",
   "execution_count": 34,
   "metadata": {},
   "outputs": [
    {
     "data": {
      "text/plain": [
       "561"
      ]
     },
     "execution_count": 34,
     "metadata": {},
     "output_type": "execute_result"
    }
   ],
   "source": [
    "len(listaDe_eventos_dos_arquivos_evtx)"
   ]
  },
  {
   "cell_type": "code",
   "execution_count": 35,
   "metadata": {},
   "outputs": [
    {
     "data": {
      "text/html": [
       "<div>\n",
       "<style scoped>\n",
       "    .dataframe tbody tr th:only-of-type {\n",
       "        vertical-align: middle;\n",
       "    }\n",
       "\n",
       "    .dataframe tbody tr th {\n",
       "        vertical-align: top;\n",
       "    }\n",
       "\n",
       "    .dataframe thead th {\n",
       "        text-align: right;\n",
       "    }\n",
       "</style>\n",
       "<table border=\"1\" class=\"dataframe\">\n",
       "  <thead>\n",
       "    <tr style=\"text-align: right;\">\n",
       "      <th></th>\n",
       "      <th>Filename</th>\n",
       "      <th>ID</th>\n",
       "      <th>SourceName</th>\n",
       "      <th>Provider_Guid</th>\n",
       "      <th>EventID</th>\n",
       "      <th>EventID_Qualifiers</th>\n",
       "      <th>Version</th>\n",
       "      <th>Level</th>\n",
       "      <th>Task</th>\n",
       "      <th>Opcode</th>\n",
       "      <th>...</th>\n",
       "      <th>Correlation_RelatedActivityID</th>\n",
       "      <th>ProcessID</th>\n",
       "      <th>ThreadID</th>\n",
       "      <th>Channel</th>\n",
       "      <th>Computer</th>\n",
       "      <th>UserID</th>\n",
       "      <th>Data_Event_Name</th>\n",
       "      <th>Data_Fields</th>\n",
       "      <th>Data</th>\n",
       "      <th>UserData_Flag</th>\n",
       "    </tr>\n",
       "  </thead>\n",
       "  <tbody>\n",
       "    <tr>\n",
       "      <th>0</th>\n",
       "      <td>Application.evtx</td>\n",
       "      <td>28</td>\n",
       "      <td>Microsoft-Windows-LoadPerf</td>\n",
       "      <td>122EE297-BB47-41AE-B265-1CA8D1886D40</td>\n",
       "      <td>3012</td>\n",
       "      <td>None</td>\n",
       "      <td>0</td>\n",
       "      <td>2</td>\n",
       "      <td>0</td>\n",
       "      <td>0</td>\n",
       "      <td>...</td>\n",
       "      <td>None</td>\n",
       "      <td>12320</td>\n",
       "      <td>6132</td>\n",
       "      <td>Application</td>\n",
       "      <td>Nathan</td>\n",
       "      <td>S-1-5-18</td>\n",
       "      <td>None</td>\n",
       "      <td>None</td>\n",
       "      <td>None</td>\n",
       "      <td>0</td>\n",
       "    </tr>\n",
       "    <tr>\n",
       "      <th>1</th>\n",
       "      <td>Application.evtx</td>\n",
       "      <td>29</td>\n",
       "      <td>Microsoft-Windows-LoadPerf</td>\n",
       "      <td>122EE297-BB47-41AE-B265-1CA8D1886D40</td>\n",
       "      <td>3012</td>\n",
       "      <td>None</td>\n",
       "      <td>0</td>\n",
       "      <td>2</td>\n",
       "      <td>0</td>\n",
       "      <td>0</td>\n",
       "      <td>...</td>\n",
       "      <td>None</td>\n",
       "      <td>12320</td>\n",
       "      <td>6132</td>\n",
       "      <td>Application</td>\n",
       "      <td>Nathan</td>\n",
       "      <td>S-1-5-18</td>\n",
       "      <td>None</td>\n",
       "      <td>None</td>\n",
       "      <td>None</td>\n",
       "      <td>0</td>\n",
       "    </tr>\n",
       "    <tr>\n",
       "      <th>2</th>\n",
       "      <td>Application.evtx</td>\n",
       "      <td>30</td>\n",
       "      <td>Microsoft-Windows-LoadPerf</td>\n",
       "      <td>122EE297-BB47-41AE-B265-1CA8D1886D40</td>\n",
       "      <td>3011</td>\n",
       "      <td>None</td>\n",
       "      <td>0</td>\n",
       "      <td>2</td>\n",
       "      <td>0</td>\n",
       "      <td>0</td>\n",
       "      <td>...</td>\n",
       "      <td>None</td>\n",
       "      <td>12320</td>\n",
       "      <td>6132</td>\n",
       "      <td>Application</td>\n",
       "      <td>Nathan</td>\n",
       "      <td>S-1-5-18</td>\n",
       "      <td>None</td>\n",
       "      <td>None</td>\n",
       "      <td>None</td>\n",
       "      <td>0</td>\n",
       "    </tr>\n",
       "    <tr>\n",
       "      <th>3</th>\n",
       "      <td>Application.evtx</td>\n",
       "      <td>173</td>\n",
       "      <td>Microsoft-Windows-LoadPerf</td>\n",
       "      <td>122EE297-BB47-41AE-B265-1CA8D1886D40</td>\n",
       "      <td>3012</td>\n",
       "      <td>None</td>\n",
       "      <td>0</td>\n",
       "      <td>2</td>\n",
       "      <td>0</td>\n",
       "      <td>0</td>\n",
       "      <td>...</td>\n",
       "      <td>None</td>\n",
       "      <td>12248</td>\n",
       "      <td>10252</td>\n",
       "      <td>Application</td>\n",
       "      <td>Nathan</td>\n",
       "      <td>S-1-5-18</td>\n",
       "      <td>None</td>\n",
       "      <td>None</td>\n",
       "      <td>None</td>\n",
       "      <td>0</td>\n",
       "    </tr>\n",
       "    <tr>\n",
       "      <th>4</th>\n",
       "      <td>Application.evtx</td>\n",
       "      <td>174</td>\n",
       "      <td>Microsoft-Windows-LoadPerf</td>\n",
       "      <td>122EE297-BB47-41AE-B265-1CA8D1886D40</td>\n",
       "      <td>3012</td>\n",
       "      <td>None</td>\n",
       "      <td>0</td>\n",
       "      <td>2</td>\n",
       "      <td>0</td>\n",
       "      <td>0</td>\n",
       "      <td>...</td>\n",
       "      <td>None</td>\n",
       "      <td>12248</td>\n",
       "      <td>10252</td>\n",
       "      <td>Application</td>\n",
       "      <td>Nathan</td>\n",
       "      <td>S-1-5-18</td>\n",
       "      <td>None</td>\n",
       "      <td>None</td>\n",
       "      <td>None</td>\n",
       "      <td>0</td>\n",
       "    </tr>\n",
       "  </tbody>\n",
       "</table>\n",
       "<p>5 rows × 24 columns</p>\n",
       "</div>"
      ],
      "text/plain": [
       "           Filename   ID                  SourceName  \\\n",
       "0  Application.evtx   28  Microsoft-Windows-LoadPerf   \n",
       "1  Application.evtx   29  Microsoft-Windows-LoadPerf   \n",
       "2  Application.evtx   30  Microsoft-Windows-LoadPerf   \n",
       "3  Application.evtx  173  Microsoft-Windows-LoadPerf   \n",
       "4  Application.evtx  174  Microsoft-Windows-LoadPerf   \n",
       "\n",
       "                          Provider_Guid EventID EventID_Qualifiers Version  \\\n",
       "0  122EE297-BB47-41AE-B265-1CA8D1886D40    3012               None       0   \n",
       "1  122EE297-BB47-41AE-B265-1CA8D1886D40    3012               None       0   \n",
       "2  122EE297-BB47-41AE-B265-1CA8D1886D40    3011               None       0   \n",
       "3  122EE297-BB47-41AE-B265-1CA8D1886D40    3012               None       0   \n",
       "4  122EE297-BB47-41AE-B265-1CA8D1886D40    3012               None       0   \n",
       "\n",
       "  Level Task Opcode  ... Correlation_RelatedActivityID ProcessID ThreadID  \\\n",
       "0     2    0      0  ...                          None     12320     6132   \n",
       "1     2    0      0  ...                          None     12320     6132   \n",
       "2     2    0      0  ...                          None     12320     6132   \n",
       "3     2    0      0  ...                          None     12248    10252   \n",
       "4     2    0      0  ...                          None     12248    10252   \n",
       "\n",
       "       Channel Computer    UserID Data_Event_Name Data_Fields  Data  \\\n",
       "0  Application   Nathan  S-1-5-18            None        None  None   \n",
       "1  Application   Nathan  S-1-5-18            None        None  None   \n",
       "2  Application   Nathan  S-1-5-18            None        None  None   \n",
       "3  Application   Nathan  S-1-5-18            None        None  None   \n",
       "4  Application   Nathan  S-1-5-18            None        None  None   \n",
       "\n",
       "  UserData_Flag  \n",
       "0             0  \n",
       "1             0  \n",
       "2             0  \n",
       "3             0  \n",
       "4             0  \n",
       "\n",
       "[5 rows x 24 columns]"
      ]
     },
     "execution_count": 35,
     "metadata": {},
     "output_type": "execute_result"
    }
   ],
   "source": [
    "df_eventos = pd.DataFrame.from_records(listaDe_eventos_dos_arquivos_evtx)\n",
    "df_eventos.head()"
   ]
  },
  {
   "cell_type": "code",
   "execution_count": 36,
   "metadata": {},
   "outputs": [
    {
     "data": {
      "text/html": [
       "<div>\n",
       "<style scoped>\n",
       "    .dataframe tbody tr th:only-of-type {\n",
       "        vertical-align: middle;\n",
       "    }\n",
       "\n",
       "    .dataframe tbody tr th {\n",
       "        vertical-align: top;\n",
       "    }\n",
       "\n",
       "    .dataframe thead th {\n",
       "        text-align: right;\n",
       "    }\n",
       "</style>\n",
       "<table border=\"1\" class=\"dataframe\">\n",
       "  <thead>\n",
       "    <tr style=\"text-align: right;\">\n",
       "      <th></th>\n",
       "      <th>Filename</th>\n",
       "      <th>ID</th>\n",
       "      <th>SourceName</th>\n",
       "      <th>Provider_Guid</th>\n",
       "      <th>EventID</th>\n",
       "      <th>EventID_Qualifiers</th>\n",
       "      <th>Version</th>\n",
       "      <th>Level</th>\n",
       "      <th>Task</th>\n",
       "      <th>Opcode</th>\n",
       "      <th>...</th>\n",
       "      <th>Correlation_RelatedActivityID</th>\n",
       "      <th>ProcessID</th>\n",
       "      <th>ThreadID</th>\n",
       "      <th>Channel</th>\n",
       "      <th>Computer</th>\n",
       "      <th>UserID</th>\n",
       "      <th>Data_Event_Name</th>\n",
       "      <th>Data_Fields</th>\n",
       "      <th>Data</th>\n",
       "      <th>UserData_Flag</th>\n",
       "    </tr>\n",
       "  </thead>\n",
       "  <tbody>\n",
       "    <tr>\n",
       "      <th>556</th>\n",
       "      <td>Application.evtx</td>\n",
       "      <td>1485</td>\n",
       "      <td>Microsoft-Windows-LoadPerf</td>\n",
       "      <td>122EE297-BB47-41AE-B265-1CA8D1886D40</td>\n",
       "      <td>3012</td>\n",
       "      <td>None</td>\n",
       "      <td>0</td>\n",
       "      <td>2</td>\n",
       "      <td>0</td>\n",
       "      <td>0</td>\n",
       "      <td>...</td>\n",
       "      <td>None</td>\n",
       "      <td>4884</td>\n",
       "      <td>5404</td>\n",
       "      <td>Application</td>\n",
       "      <td>Nathan</td>\n",
       "      <td>S-1-5-18</td>\n",
       "      <td>None</td>\n",
       "      <td>None</td>\n",
       "      <td>None</td>\n",
       "      <td>0</td>\n",
       "    </tr>\n",
       "    <tr>\n",
       "      <th>557</th>\n",
       "      <td>Application.evtx</td>\n",
       "      <td>1486</td>\n",
       "      <td>Microsoft-Windows-LoadPerf</td>\n",
       "      <td>122EE297-BB47-41AE-B265-1CA8D1886D40</td>\n",
       "      <td>3011</td>\n",
       "      <td>None</td>\n",
       "      <td>0</td>\n",
       "      <td>2</td>\n",
       "      <td>0</td>\n",
       "      <td>0</td>\n",
       "      <td>...</td>\n",
       "      <td>None</td>\n",
       "      <td>4884</td>\n",
       "      <td>5404</td>\n",
       "      <td>Application</td>\n",
       "      <td>Nathan</td>\n",
       "      <td>S-1-5-18</td>\n",
       "      <td>None</td>\n",
       "      <td>None</td>\n",
       "      <td>None</td>\n",
       "      <td>0</td>\n",
       "    </tr>\n",
       "    <tr>\n",
       "      <th>558</th>\n",
       "      <td>Application.evtx</td>\n",
       "      <td>1492</td>\n",
       "      <td>Microsoft-Windows-LoadPerf</td>\n",
       "      <td>122EE297-BB47-41AE-B265-1CA8D1886D40</td>\n",
       "      <td>3012</td>\n",
       "      <td>None</td>\n",
       "      <td>0</td>\n",
       "      <td>2</td>\n",
       "      <td>0</td>\n",
       "      <td>0</td>\n",
       "      <td>...</td>\n",
       "      <td>None</td>\n",
       "      <td>10372</td>\n",
       "      <td>10380</td>\n",
       "      <td>Application</td>\n",
       "      <td>Nathan</td>\n",
       "      <td>S-1-5-18</td>\n",
       "      <td>None</td>\n",
       "      <td>None</td>\n",
       "      <td>None</td>\n",
       "      <td>0</td>\n",
       "    </tr>\n",
       "    <tr>\n",
       "      <th>559</th>\n",
       "      <td>Application.evtx</td>\n",
       "      <td>1493</td>\n",
       "      <td>Microsoft-Windows-LoadPerf</td>\n",
       "      <td>122EE297-BB47-41AE-B265-1CA8D1886D40</td>\n",
       "      <td>3012</td>\n",
       "      <td>None</td>\n",
       "      <td>0</td>\n",
       "      <td>2</td>\n",
       "      <td>0</td>\n",
       "      <td>0</td>\n",
       "      <td>...</td>\n",
       "      <td>None</td>\n",
       "      <td>10372</td>\n",
       "      <td>10380</td>\n",
       "      <td>Application</td>\n",
       "      <td>Nathan</td>\n",
       "      <td>S-1-5-18</td>\n",
       "      <td>None</td>\n",
       "      <td>None</td>\n",
       "      <td>None</td>\n",
       "      <td>0</td>\n",
       "    </tr>\n",
       "    <tr>\n",
       "      <th>560</th>\n",
       "      <td>Application.evtx</td>\n",
       "      <td>1494</td>\n",
       "      <td>Microsoft-Windows-LoadPerf</td>\n",
       "      <td>122EE297-BB47-41AE-B265-1CA8D1886D40</td>\n",
       "      <td>3011</td>\n",
       "      <td>None</td>\n",
       "      <td>0</td>\n",
       "      <td>2</td>\n",
       "      <td>0</td>\n",
       "      <td>0</td>\n",
       "      <td>...</td>\n",
       "      <td>None</td>\n",
       "      <td>10372</td>\n",
       "      <td>10380</td>\n",
       "      <td>Application</td>\n",
       "      <td>Nathan</td>\n",
       "      <td>S-1-5-18</td>\n",
       "      <td>None</td>\n",
       "      <td>None</td>\n",
       "      <td>None</td>\n",
       "      <td>0</td>\n",
       "    </tr>\n",
       "  </tbody>\n",
       "</table>\n",
       "<p>5 rows × 24 columns</p>\n",
       "</div>"
      ],
      "text/plain": [
       "             Filename    ID                  SourceName  \\\n",
       "556  Application.evtx  1485  Microsoft-Windows-LoadPerf   \n",
       "557  Application.evtx  1486  Microsoft-Windows-LoadPerf   \n",
       "558  Application.evtx  1492  Microsoft-Windows-LoadPerf   \n",
       "559  Application.evtx  1493  Microsoft-Windows-LoadPerf   \n",
       "560  Application.evtx  1494  Microsoft-Windows-LoadPerf   \n",
       "\n",
       "                            Provider_Guid EventID EventID_Qualifiers Version  \\\n",
       "556  122EE297-BB47-41AE-B265-1CA8D1886D40    3012               None       0   \n",
       "557  122EE297-BB47-41AE-B265-1CA8D1886D40    3011               None       0   \n",
       "558  122EE297-BB47-41AE-B265-1CA8D1886D40    3012               None       0   \n",
       "559  122EE297-BB47-41AE-B265-1CA8D1886D40    3012               None       0   \n",
       "560  122EE297-BB47-41AE-B265-1CA8D1886D40    3011               None       0   \n",
       "\n",
       "    Level Task Opcode  ... Correlation_RelatedActivityID ProcessID ThreadID  \\\n",
       "556     2    0      0  ...                          None      4884     5404   \n",
       "557     2    0      0  ...                          None      4884     5404   \n",
       "558     2    0      0  ...                          None     10372    10380   \n",
       "559     2    0      0  ...                          None     10372    10380   \n",
       "560     2    0      0  ...                          None     10372    10380   \n",
       "\n",
       "         Channel Computer    UserID Data_Event_Name Data_Fields  Data  \\\n",
       "556  Application   Nathan  S-1-5-18            None        None  None   \n",
       "557  Application   Nathan  S-1-5-18            None        None  None   \n",
       "558  Application   Nathan  S-1-5-18            None        None  None   \n",
       "559  Application   Nathan  S-1-5-18            None        None  None   \n",
       "560  Application   Nathan  S-1-5-18            None        None  None   \n",
       "\n",
       "    UserData_Flag  \n",
       "556             0  \n",
       "557             0  \n",
       "558             0  \n",
       "559             0  \n",
       "560             0  \n",
       "\n",
       "[5 rows x 24 columns]"
      ]
     },
     "execution_count": 36,
     "metadata": {},
     "output_type": "execute_result"
    }
   ],
   "source": [
    "df_eventos.tail()"
   ]
  },
  {
   "cell_type": "code",
   "execution_count": null,
   "metadata": {},
   "outputs": [],
   "source": []
  }
 ],
 "metadata": {
  "kernelspec": {
   "display_name": "venv",
   "language": "python",
   "name": "python3"
  },
  "language_info": {
   "codemirror_mode": {
    "name": "ipython",
    "version": 3
   },
   "file_extension": ".py",
   "mimetype": "text/x-python",
   "name": "python",
   "nbconvert_exporter": "python",
   "pygments_lexer": "ipython3",
   "version": "3.11.9"
  }
 },
 "nbformat": 4,
 "nbformat_minor": 2
}
